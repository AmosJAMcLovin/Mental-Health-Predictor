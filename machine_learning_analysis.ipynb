{
 "cells": [
  {
   "cell_type": "code",
   "execution_count": 629,
   "metadata": {},
   "outputs": [],
   "source": [
    "import pandas as pd\n",
    "import numpy as np\n",
    "import sys\n",
    "import warnings\n",
    "import matplotlib.pyplot as plt\n",
    "import seaborn as sns\n",
    "from sklearn.model_selection import train_test_split\n",
    "from sklearn.linear_model import LinearRegression,LogisticRegression\n",
    "from sklearn.tree import DecisionTreeRegressor\n",
    "from sklearn.tree import DecisionTreeClassifier, export_graphviz\n",
    "from sklearn.ensemble import RandomForestClassifier\n",
    "from sklearn.ensemble import AdaBoostClassifier\n",
    "from sklearn.tree import export_graphviz  \n",
    "from sklearn.svm import SVR\n",
    "from sklearn.svm import SVC \n",
    "from sklearn.metrics import confusion_matrix,accuracy_score,f1_score,recall_score,precision_score,classification_report\n",
    "from sklearn.metrics import mean_squared_error\n",
    "from sklearn import metrics\n",
    "from sklearn.metrics import classification_report\n",
    "from sklearn.metrics import confusion_matrix\n",
    "from yellowbrick.classifier import ClassificationReport\n",
    "from sklearn.preprocessing import MinMaxScaler\n",
    "from sklearn.model_selection import GridSearchCV\n",
    "from sklearn.metrics import classification_report\n",
    "from yellowbrick.model_selection import FeatureImportances\n",
    "from yellowbrick.style import set_palette\n",
    "from yellowbrick.features import RadViz\n",
    "warnings.filterwarnings('ignore')\n",
    "warnings.filterwarnings('ignore','FutureWarning')"
   ]
  },
  {
   "cell_type": "code",
   "execution_count": 630,
   "metadata": {},
   "outputs": [],
   "source": [
    "# read  data\n",
    "survey = pd.read_csv('Data/survey.csv')\n",
    "indicators = pd.read_csv('Data/raw_data/Development_Indicators.csv')"
   ]
  },
  {
   "cell_type": "markdown",
   "metadata": {},
   "source": [
    "# Data Cleaning and Pre-Processing"
   ]
  },
  {
   "cell_type": "code",
   "execution_count": 631,
   "metadata": {},
   "outputs": [
    {
     "data": {
      "text/html": [
       "<div>\n",
       "<style scoped>\n",
       "    .dataframe tbody tr th:only-of-type {\n",
       "        vertical-align: middle;\n",
       "    }\n",
       "\n",
       "    .dataframe tbody tr th {\n",
       "        vertical-align: top;\n",
       "    }\n",
       "\n",
       "    .dataframe thead th {\n",
       "        text-align: right;\n",
       "    }\n",
       "</style>\n",
       "<table border=\"1\" class=\"dataframe\">\n",
       "  <thead>\n",
       "    <tr style=\"text-align: right;\">\n",
       "      <th></th>\n",
       "      <th>Country Name</th>\n",
       "      <th>Country Code</th>\n",
       "      <th>Series Name</th>\n",
       "      <th>Series Code</th>\n",
       "      <th>1960</th>\n",
       "      <th>1961</th>\n",
       "      <th>1962</th>\n",
       "      <th>1963</th>\n",
       "      <th>1964</th>\n",
       "      <th>1965</th>\n",
       "      <th>...</th>\n",
       "      <th>2011</th>\n",
       "      <th>2012</th>\n",
       "      <th>2013</th>\n",
       "      <th>2014</th>\n",
       "      <th>2015</th>\n",
       "      <th>2016</th>\n",
       "      <th>2017</th>\n",
       "      <th>2018</th>\n",
       "      <th>2019</th>\n",
       "      <th>2020</th>\n",
       "    </tr>\n",
       "  </thead>\n",
       "  <tbody>\n",
       "    <tr>\n",
       "      <th>8</th>\n",
       "      <td>Afghanistan</td>\n",
       "      <td>AFG</td>\n",
       "      <td>Coverage of social insurance programs (% of po...</td>\n",
       "      <td>per_si_allsi.cov_pop_tot</td>\n",
       "      <td>NaN</td>\n",
       "      <td>NaN</td>\n",
       "      <td>NaN</td>\n",
       "      <td>NaN</td>\n",
       "      <td>NaN</td>\n",
       "      <td>NaN</td>\n",
       "      <td>...</td>\n",
       "      <td>NaN</td>\n",
       "      <td>NaN</td>\n",
       "      <td>NaN</td>\n",
       "      <td>NaN</td>\n",
       "      <td>NaN</td>\n",
       "      <td>NaN</td>\n",
       "      <td>NaN</td>\n",
       "      <td>NaN</td>\n",
       "      <td>NaN</td>\n",
       "      <td>NaN</td>\n",
       "    </tr>\n",
       "    <tr>\n",
       "      <th>9</th>\n",
       "      <td>Afghanistan</td>\n",
       "      <td>AFG</td>\n",
       "      <td>Coverage of social protection and labor progra...</td>\n",
       "      <td>per_allsp.cov_pop_tot</td>\n",
       "      <td>NaN</td>\n",
       "      <td>NaN</td>\n",
       "      <td>NaN</td>\n",
       "      <td>NaN</td>\n",
       "      <td>NaN</td>\n",
       "      <td>NaN</td>\n",
       "      <td>...</td>\n",
       "      <td>8.820582</td>\n",
       "      <td>NaN</td>\n",
       "      <td>NaN</td>\n",
       "      <td>NaN</td>\n",
       "      <td>NaN</td>\n",
       "      <td>NaN</td>\n",
       "      <td>NaN</td>\n",
       "      <td>NaN</td>\n",
       "      <td>NaN</td>\n",
       "      <td>NaN</td>\n",
       "    </tr>\n",
       "    <tr>\n",
       "      <th>10</th>\n",
       "      <td>Afghanistan</td>\n",
       "      <td>AFG</td>\n",
       "      <td>Coverage of unemployment benefits and ALMP (% ...</td>\n",
       "      <td>per_lm_alllm.cov_pop_tot</td>\n",
       "      <td>NaN</td>\n",
       "      <td>NaN</td>\n",
       "      <td>NaN</td>\n",
       "      <td>NaN</td>\n",
       "      <td>NaN</td>\n",
       "      <td>NaN</td>\n",
       "      <td>...</td>\n",
       "      <td>NaN</td>\n",
       "      <td>NaN</td>\n",
       "      <td>NaN</td>\n",
       "      <td>NaN</td>\n",
       "      <td>NaN</td>\n",
       "      <td>NaN</td>\n",
       "      <td>NaN</td>\n",
       "      <td>NaN</td>\n",
       "      <td>NaN</td>\n",
       "      <td>NaN</td>\n",
       "    </tr>\n",
       "    <tr>\n",
       "      <th>14</th>\n",
       "      <td>Afghanistan</td>\n",
       "      <td>AFG</td>\n",
       "      <td>Employment to population ratio, 15+, female (%...</td>\n",
       "      <td>SL.EMP.TOTL.SP.FE.NE.ZS</td>\n",
       "      <td>NaN</td>\n",
       "      <td>NaN</td>\n",
       "      <td>NaN</td>\n",
       "      <td>NaN</td>\n",
       "      <td>NaN</td>\n",
       "      <td>NaN</td>\n",
       "      <td>...</td>\n",
       "      <td>NaN</td>\n",
       "      <td>15.481100</td>\n",
       "      <td>NaN</td>\n",
       "      <td>23.177000</td>\n",
       "      <td>NaN</td>\n",
       "      <td>NaN</td>\n",
       "      <td>18.201599</td>\n",
       "      <td>NaN</td>\n",
       "      <td>NaN</td>\n",
       "      <td>NaN</td>\n",
       "    </tr>\n",
       "    <tr>\n",
       "      <th>15</th>\n",
       "      <td>Afghanistan</td>\n",
       "      <td>AFG</td>\n",
       "      <td>Employment to population ratio, 15+, male (%) ...</td>\n",
       "      <td>SL.EMP.TOTL.SP.MA.NE.ZS</td>\n",
       "      <td>NaN</td>\n",
       "      <td>NaN</td>\n",
       "      <td>NaN</td>\n",
       "      <td>NaN</td>\n",
       "      <td>NaN</td>\n",
       "      <td>NaN</td>\n",
       "      <td>...</td>\n",
       "      <td>NaN</td>\n",
       "      <td>75.998901</td>\n",
       "      <td>NaN</td>\n",
       "      <td>71.530197</td>\n",
       "      <td>NaN</td>\n",
       "      <td>NaN</td>\n",
       "      <td>65.576797</td>\n",
       "      <td>NaN</td>\n",
       "      <td>NaN</td>\n",
       "      <td>NaN</td>\n",
       "    </tr>\n",
       "  </tbody>\n",
       "</table>\n",
       "<p>5 rows × 65 columns</p>\n",
       "</div>"
      ],
      "text/plain": [
       "   Country Name Country Code  \\\n",
       "8   Afghanistan          AFG   \n",
       "9   Afghanistan          AFG   \n",
       "10  Afghanistan          AFG   \n",
       "14  Afghanistan          AFG   \n",
       "15  Afghanistan          AFG   \n",
       "\n",
       "                                          Series Name  \\\n",
       "8   Coverage of social insurance programs (% of po...   \n",
       "9   Coverage of social protection and labor progra...   \n",
       "10  Coverage of unemployment benefits and ALMP (% ...   \n",
       "14  Employment to population ratio, 15+, female (%...   \n",
       "15  Employment to population ratio, 15+, male (%) ...   \n",
       "\n",
       "                 Series Code  1960  1961  1962  1963  1964  1965  ...  \\\n",
       "8   per_si_allsi.cov_pop_tot   NaN   NaN   NaN   NaN   NaN   NaN  ...   \n",
       "9      per_allsp.cov_pop_tot   NaN   NaN   NaN   NaN   NaN   NaN  ...   \n",
       "10  per_lm_alllm.cov_pop_tot   NaN   NaN   NaN   NaN   NaN   NaN  ...   \n",
       "14   SL.EMP.TOTL.SP.FE.NE.ZS   NaN   NaN   NaN   NaN   NaN   NaN  ...   \n",
       "15   SL.EMP.TOTL.SP.MA.NE.ZS   NaN   NaN   NaN   NaN   NaN   NaN  ...   \n",
       "\n",
       "        2011       2012  2013       2014  2015  2016       2017  2018  2019  \\\n",
       "8        NaN        NaN   NaN        NaN   NaN   NaN        NaN   NaN   NaN   \n",
       "9   8.820582        NaN   NaN        NaN   NaN   NaN        NaN   NaN   NaN   \n",
       "10       NaN        NaN   NaN        NaN   NaN   NaN        NaN   NaN   NaN   \n",
       "14       NaN  15.481100   NaN  23.177000   NaN   NaN  18.201599   NaN   NaN   \n",
       "15       NaN  75.998901   NaN  71.530197   NaN   NaN  65.576797   NaN   NaN   \n",
       "\n",
       "    2020  \n",
       "8    NaN  \n",
       "9    NaN  \n",
       "10   NaN  \n",
       "14   NaN  \n",
       "15   NaN  \n",
       "\n",
       "[5 rows x 65 columns]"
      ]
     },
     "execution_count": 631,
     "metadata": {},
     "output_type": "execute_result"
    }
   ],
   "source": [
    "# select the required field from clean the indicators dataset\n",
    "indicator_filter = indicators[(indicators['Series Name'] == \"Coverage of social insurance programs (% of population)\")|(indicators['Series Name'] == \"Coverage of social protection and labor programs (% of population)\")|(indicators['Series Name'] == \"Coverage of unemployment benefits and ALMP (% of population)\")|(indicators['Series Name'] == \"Educational attainment, at least completed primary, population 25+ years, total (%) (cumulative)\")|(indicators['Series Name'] == \"Employment to population ratio, 15+, female (%) (national estimate)\")|(indicators['Series Name'] == \"Employment to population ratio, 15+, male (%) (national estimate)\")|(indicators['Series Name'] == \"GDP per capita (current US$)\")|(indicators['Series Name'] == \"Labor force participation rate, female (% of female population ages 15+) (national estimate)\")|(indicators['Series Name'] == \"Labor force participation rate, male (% of male population ages 15+) (national estimate)\")|(indicators['Series Name'] == \"Labor force participation rate, total (% of total population ages 15+) (national estimate)\")|(indicators['Series Name'] == \"Labor force with basic education (% of total working-age population with basic education)\")|(indicators['Series Name'] == \"Labor force with basic education, female (% of female working-age population with basic education)\")|(indicators['Series Name'] == \"Life expectancy at birth, female (years)\")|(indicators['Series Name'] == \"Life expectancy at birth, total (years)\")|(indicators['Series Name'] == \"Population, total\")|(indicators['Series Name'] == \"Suicide mortality rate (per 100,000 population)\")|(indicators['Series Name'] == \"Suicide mortality rate, female (per 100,000 female population)\")|(indicators['Series Name'] == \"Suicide mortality rate, male (per 100,000 male population)\")|(indicators['Series Name'] == \"Unemployment with basic education (% of total labor force with basic education)\")|(indicators['Series Name'] == \"Unemployment with basic education, female (% of female labor force with basic education)\")|(indicators['Series Name'] == \"Unemployment with basic education, male (% of male labor force with basic education)\")]\n",
    "# rename year column\n",
    "rename_df=indicator_filter.rename(columns = {\"1960 [YR1960]\":\"1960\",\"1961 [YR1961]\":\"1961\",\"1962 [YR1962]\":\"1962\",\"1963 [YR1963]\":\"1963\",\"1964 [YR1964]\":\"1964\",\"1965 [YR1965]\":\"1965\",\"1966 [YR1966]\":\"1966\",\"1967 [YR1967]\":\"1967\",\"1968 [YR1968]\":\"1968\",\"1969 [YR1969]\":\"1969\",\"1970 [YR1970]\":\"1970\",\n",
    "                                             \"1971 [YR1971]\":\"1971\",\"1972 [YR1972]\":\"1972\",\"1973 [YR1973]\":\"1973\",\"1974 [YR1974]\":\"1974\",\"1975 [YR1975]\":\"1975\",\"1976 [YR1976]\":\"1976\",\"1977 [YR1977]\":\"1977\",\"1978 [YR1978]\":\"1978\",\"1979 [YR1979]\":\"1979\",\"1980 [YR1980]\":\"1980\",\"1981 [YR1981]\":\"1981\",\n",
    "                                             \"1982 [YR1982]\":\"1982\",\"1983 [YR1983]\":\"1983\",\"1984 [YR1984]\":\"1984\",\"1985 [YR1985]\":\"1985\",\"1986 [YR1986]\":\"1986\",\"1987 [YR1987]\":\"1987\",\"1988 [YR1988]\":\"1988\",\"1989 [YR1989]\":\"1989\",\"1990 [YR1990]\":\"1990\",\"1991 [YR1991]\":\"1991\",\"1992 [YR1992]\":\"1992\",\n",
    "                                             \"1993 [YR1993]\":\"1993\",\"1994 [YR1994]\":\"1994\",\"1995 [YR1995]\":\"1995\",\"1996 [YR1996]\":\"1996\",\"1997 [YR1997]\":\"1997\",\"1998 [YR1998]\":\"1998\",\"1999 [YR1999]\":\"1999\",\"2000 [YR2000]\":\"2000\",\"2001 [YR2001]\":\"2001\",\"2002 [YR2002]\":\"2002\",\"2003 [YR2003]\":\"2003\",\n",
    "                                             \"2004 [YR2004]\":\"2004\",\"2005 [YR2005]\":\"2005\",\"2006 [YR2006]\":\"2006\",\"2007 [YR2007]\":\"2007\",\"2008 [YR2008]\":\"2008\",\"2009 [YR2009]\":\"2009\",\"2010 [YR2010]\":\"2010\",\"2011 [YR2011]\":\"2011\",\"2012 [YR2012]\":\"2012\",\"2013 [YR2013]\":\"2013\",\"2014 [YR2014]\":\"2014\",\n",
    "                                             \"2015 [YR2015]\":\"2015\",\"2016 [YR2016]\":\"2016\",\"2017 [YR2017]\":\"2017\",\"2018 [YR2018]\":\"2018\",\"2019 [YR2019]\":\"2019\",\"2020 [YR2020]\":\"2020\",}) \n",
    "\n",
    "rename_df.head()"
   ]
  },
  {
   "cell_type": "code",
   "execution_count": 798,
   "metadata": {},
   "outputs": [
    {
     "data": {
      "text/html": [
       "<div>\n",
       "<style scoped>\n",
       "    .dataframe tbody tr th:only-of-type {\n",
       "        vertical-align: middle;\n",
       "    }\n",
       "\n",
       "    .dataframe tbody tr th {\n",
       "        vertical-align: top;\n",
       "    }\n",
       "\n",
       "    .dataframe thead th {\n",
       "        text-align: right;\n",
       "    }\n",
       "</style>\n",
       "<table border=\"1\" class=\"dataframe\">\n",
       "  <thead>\n",
       "    <tr style=\"text-align: right;\">\n",
       "      <th>Series Name</th>\n",
       "      <th>Country</th>\n",
       "      <th>country_code</th>\n",
       "      <th>social_insurance</th>\n",
       "      <th>social_protection</th>\n",
       "      <th>unemployment_benefits</th>\n",
       "      <th>Female_employment</th>\n",
       "      <th>Male_employment</th>\n",
       "      <th>Labor_force_rate_female</th>\n",
       "      <th>Labor_force_rate_male</th>\n",
       "      <th>Labor_force_total</th>\n",
       "      <th>...</th>\n",
       "      <th>life_expectancy_female</th>\n",
       "      <th>Life_expectancy_total</th>\n",
       "      <th>Total_population</th>\n",
       "      <th>Suicide_mortality_rate_per_100k</th>\n",
       "      <th>Suicide_mortality_rate_per_100k_female</th>\n",
       "      <th>Suicide_mortality_rate_per_100k_male</th>\n",
       "      <th>unemployment_with_basic_education_total</th>\n",
       "      <th>Unemployment_with_basic_education_female</th>\n",
       "      <th>Unemployment_with_basic_education_male</th>\n",
       "      <th>Year</th>\n",
       "    </tr>\n",
       "  </thead>\n",
       "  <tbody>\n",
       "    <tr>\n",
       "      <th>0</th>\n",
       "      <td>Afghanistan</td>\n",
       "      <td>AFG</td>\n",
       "      <td>NaN</td>\n",
       "      <td>NaN</td>\n",
       "      <td>NaN</td>\n",
       "      <td>NaN</td>\n",
       "      <td>NaN</td>\n",
       "      <td>NaN</td>\n",
       "      <td>NaN</td>\n",
       "      <td>NaN</td>\n",
       "      <td>...</td>\n",
       "      <td>33.314</td>\n",
       "      <td>32.446</td>\n",
       "      <td>8996973.0</td>\n",
       "      <td>NaN</td>\n",
       "      <td>NaN</td>\n",
       "      <td>NaN</td>\n",
       "      <td>NaN</td>\n",
       "      <td>NaN</td>\n",
       "      <td>NaN</td>\n",
       "      <td>1960</td>\n",
       "    </tr>\n",
       "    <tr>\n",
       "      <th>1</th>\n",
       "      <td>Albania</td>\n",
       "      <td>ALB</td>\n",
       "      <td>NaN</td>\n",
       "      <td>NaN</td>\n",
       "      <td>NaN</td>\n",
       "      <td>NaN</td>\n",
       "      <td>NaN</td>\n",
       "      <td>36.349998</td>\n",
       "      <td>53.070000</td>\n",
       "      <td>44.930000</td>\n",
       "      <td>...</td>\n",
       "      <td>63.247</td>\n",
       "      <td>62.283</td>\n",
       "      <td>1608800.0</td>\n",
       "      <td>NaN</td>\n",
       "      <td>NaN</td>\n",
       "      <td>NaN</td>\n",
       "      <td>NaN</td>\n",
       "      <td>NaN</td>\n",
       "      <td>NaN</td>\n",
       "      <td>1960</td>\n",
       "    </tr>\n",
       "    <tr>\n",
       "      <th>2</th>\n",
       "      <td>Algeria</td>\n",
       "      <td>DZA</td>\n",
       "      <td>NaN</td>\n",
       "      <td>NaN</td>\n",
       "      <td>NaN</td>\n",
       "      <td>NaN</td>\n",
       "      <td>NaN</td>\n",
       "      <td>NaN</td>\n",
       "      <td>NaN</td>\n",
       "      <td>NaN</td>\n",
       "      <td>...</td>\n",
       "      <td>46.865</td>\n",
       "      <td>46.141</td>\n",
       "      <td>11057863.0</td>\n",
       "      <td>NaN</td>\n",
       "      <td>NaN</td>\n",
       "      <td>NaN</td>\n",
       "      <td>NaN</td>\n",
       "      <td>NaN</td>\n",
       "      <td>NaN</td>\n",
       "      <td>1960</td>\n",
       "    </tr>\n",
       "    <tr>\n",
       "      <th>3</th>\n",
       "      <td>American Samoa</td>\n",
       "      <td>ASM</td>\n",
       "      <td>NaN</td>\n",
       "      <td>NaN</td>\n",
       "      <td>NaN</td>\n",
       "      <td>NaN</td>\n",
       "      <td>NaN</td>\n",
       "      <td>42.509998</td>\n",
       "      <td>68.239998</td>\n",
       "      <td>55.119999</td>\n",
       "      <td>...</td>\n",
       "      <td>NaN</td>\n",
       "      <td>NaN</td>\n",
       "      <td>20123.0</td>\n",
       "      <td>NaN</td>\n",
       "      <td>NaN</td>\n",
       "      <td>NaN</td>\n",
       "      <td>NaN</td>\n",
       "      <td>NaN</td>\n",
       "      <td>NaN</td>\n",
       "      <td>1960</td>\n",
       "    </tr>\n",
       "    <tr>\n",
       "      <th>4</th>\n",
       "      <td>Andorra</td>\n",
       "      <td>AND</td>\n",
       "      <td>NaN</td>\n",
       "      <td>NaN</td>\n",
       "      <td>NaN</td>\n",
       "      <td>NaN</td>\n",
       "      <td>NaN</td>\n",
       "      <td>NaN</td>\n",
       "      <td>NaN</td>\n",
       "      <td>NaN</td>\n",
       "      <td>...</td>\n",
       "      <td>NaN</td>\n",
       "      <td>NaN</td>\n",
       "      <td>13411.0</td>\n",
       "      <td>NaN</td>\n",
       "      <td>NaN</td>\n",
       "      <td>NaN</td>\n",
       "      <td>NaN</td>\n",
       "      <td>NaN</td>\n",
       "      <td>NaN</td>\n",
       "      <td>1960</td>\n",
       "    </tr>\n",
       "  </tbody>\n",
       "</table>\n",
       "<p>5 rows × 22 columns</p>\n",
       "</div>"
      ],
      "text/plain": [
       "Series Name         Country country_code  social_insurance  social_protection  \\\n",
       "0               Afghanistan          AFG               NaN                NaN   \n",
       "1                   Albania          ALB               NaN                NaN   \n",
       "2                   Algeria          DZA               NaN                NaN   \n",
       "3            American Samoa          ASM               NaN                NaN   \n",
       "4                   Andorra          AND               NaN                NaN   \n",
       "\n",
       "Series Name  unemployment_benefits  Female_employment  Male_employment  \\\n",
       "0                              NaN                NaN              NaN   \n",
       "1                              NaN                NaN              NaN   \n",
       "2                              NaN                NaN              NaN   \n",
       "3                              NaN                NaN              NaN   \n",
       "4                              NaN                NaN              NaN   \n",
       "\n",
       "Series Name  Labor_force_rate_female  Labor_force_rate_male  \\\n",
       "0                                NaN                    NaN   \n",
       "1                          36.349998              53.070000   \n",
       "2                                NaN                    NaN   \n",
       "3                          42.509998              68.239998   \n",
       "4                                NaN                    NaN   \n",
       "\n",
       "Series Name  Labor_force_total  ...  life_expectancy_female  \\\n",
       "0                          NaN  ...                  33.314   \n",
       "1                    44.930000  ...                  63.247   \n",
       "2                          NaN  ...                  46.865   \n",
       "3                    55.119999  ...                     NaN   \n",
       "4                          NaN  ...                     NaN   \n",
       "\n",
       "Series Name  Life_expectancy_total  Total_population  \\\n",
       "0                           32.446         8996973.0   \n",
       "1                           62.283         1608800.0   \n",
       "2                           46.141        11057863.0   \n",
       "3                              NaN           20123.0   \n",
       "4                              NaN           13411.0   \n",
       "\n",
       "Series Name  Suicide_mortality_rate_per_100k  \\\n",
       "0                                        NaN   \n",
       "1                                        NaN   \n",
       "2                                        NaN   \n",
       "3                                        NaN   \n",
       "4                                        NaN   \n",
       "\n",
       "Series Name  Suicide_mortality_rate_per_100k_female  \\\n",
       "0                                               NaN   \n",
       "1                                               NaN   \n",
       "2                                               NaN   \n",
       "3                                               NaN   \n",
       "4                                               NaN   \n",
       "\n",
       "Series Name  Suicide_mortality_rate_per_100k_male  \\\n",
       "0                                             NaN   \n",
       "1                                             NaN   \n",
       "2                                             NaN   \n",
       "3                                             NaN   \n",
       "4                                             NaN   \n",
       "\n",
       "Series Name  unemployment_with_basic_education_total  \\\n",
       "0                                                NaN   \n",
       "1                                                NaN   \n",
       "2                                                NaN   \n",
       "3                                                NaN   \n",
       "4                                                NaN   \n",
       "\n",
       "Series Name  Unemployment_with_basic_education_female  \\\n",
       "0                                                 NaN   \n",
       "1                                                 NaN   \n",
       "2                                                 NaN   \n",
       "3                                                 NaN   \n",
       "4                                                 NaN   \n",
       "\n",
       "Series Name  Unemployment_with_basic_education_male  Year  \n",
       "0                                               NaN  1960  \n",
       "1                                               NaN  1960  \n",
       "2                                               NaN  1960  \n",
       "3                                               NaN  1960  \n",
       "4                                               NaN  1960  \n",
       "\n",
       "[5 rows x 22 columns]"
      ]
     },
     "execution_count": 798,
     "metadata": {},
     "output_type": "execute_result"
    }
   ],
   "source": [
    "# Drop column we don't need \n",
    "dropeddata=rename_df.drop(\"Series Code\",axis=1)\n",
    "transposed = dropeddata.pivot_table(index=['Country Name','Country Code'], columns=['Series Name'], aggfunc='first', fill_value=0)\n",
    "reset_1960=transposed[\"1960\"].reset_index()\n",
    "reset_1961=transposed[\"1961\"].reset_index()\n",
    "reset_1962=transposed[\"1962\"].reset_index()\n",
    "reset_1963=transposed[\"1963\"].reset_index()\n",
    "reset_1964=transposed[\"1964\"].reset_index()\n",
    "reset_1965=transposed[\"1965\"].reset_index()\n",
    "reset_1966=transposed[\"1966\"].reset_index()\n",
    "reset_1967=transposed[\"1967\"].reset_index()\n",
    "reset_1968=transposed[\"1968\"].reset_index()\n",
    "reset_1969=transposed[\"1969\"].reset_index()\n",
    "reset_1970=transposed[\"1970\"].reset_index()\n",
    "reset_1971=transposed[\"1971\"].reset_index()\n",
    "reset_1972=transposed[\"1972\"].reset_index()\n",
    "reset_1973=transposed[\"1973\"].reset_index()\n",
    "reset_1974=transposed[\"1974\"].reset_index()\n",
    "reset_1975=transposed[\"1975\"].reset_index()\n",
    "reset_1976=transposed[\"1976\"].reset_index()\n",
    "reset_1977=transposed[\"1977\"].reset_index()\n",
    "reset_1978=transposed[\"1978\"].reset_index()\n",
    "reset_1979=transposed[\"1979\"].reset_index()\n",
    "reset_1980=transposed[\"1980\"].reset_index()\n",
    "reset_1981=transposed[\"1981\"].reset_index()\n",
    "reset_1982=transposed[\"1982\"].reset_index()\n",
    "reset_1983=transposed[\"1983\"].reset_index()\n",
    "reset_1984=transposed[\"1984\"].reset_index()\n",
    "reset_1985=transposed[\"1985\"].reset_index()\n",
    "reset_1986=transposed[\"1986\"].reset_index()\n",
    "reset_1987=transposed[\"1987\"].reset_index()\n",
    "reset_1988=transposed[\"1988\"].reset_index()\n",
    "reset_1989=transposed[\"1989\"].reset_index()\n",
    "reset_1990=transposed[\"1990\"].reset_index()\n",
    "reset_1991=transposed[\"1991\"].reset_index()\n",
    "reset_1992=transposed[\"1992\"].reset_index()\n",
    "reset_1993=transposed[\"1993\"].reset_index()\n",
    "reset_1994=transposed[\"1994\"].reset_index()\n",
    "reset_1995=transposed[\"1995\"].reset_index()\n",
    "reset_1996=transposed[\"1996\"].reset_index()\n",
    "reset_1997=transposed[\"1997\"].reset_index()\n",
    "reset_1998=transposed[\"1998\"].reset_index()\n",
    "reset_1999=transposed[\"1999\"].reset_index()\n",
    "reset_2000=transposed[\"2000\"].reset_index()\n",
    "reset_2001=transposed[\"2001\"].reset_index()\n",
    "reset_2002=transposed[\"2002\"].reset_index()\n",
    "reset_2003=transposed[\"2003\"].reset_index()\n",
    "reset_2004=transposed[\"2004\"].reset_index()\n",
    "reset_2005=transposed[\"2005\"].reset_index()\n",
    "reset_2006=transposed[\"2006\"].reset_index()\n",
    "reset_2007=transposed[\"2007\"].reset_index()\n",
    "reset_2008=transposed[\"2008\"].reset_index()\n",
    "reset_2009=transposed[\"2009\"].reset_index()\n",
    "reset_2010=transposed[\"2010\"].reset_index()\n",
    "reset_2011=transposed[\"2011\"].reset_index()\n",
    "reset_2012=transposed[\"2012\"].reset_index()\n",
    "reset_2013=transposed[\"2013\"].reset_index()\n",
    "reset_2014=transposed[\"2014\"].reset_index()\n",
    "reset_2015=transposed[\"2015\"].reset_index()\n",
    "reset_2016=transposed[\"2016\"].reset_index()\n",
    "reset_2017=transposed[\"2017\"].reset_index()\n",
    "reset_2018=transposed[\"2018\"].reset_index()\n",
    "reset_2019=transposed[\"2019\"].reset_index()\n",
    "reset_2020=transposed[\"2020\"].reset_index()\n",
    "reset_1960['Year']=1960\n",
    "reset_1961['Year']=1961\n",
    "reset_1962['Year']=1962\n",
    "reset_1963['Year']=1963\n",
    "reset_1964['Year']=1964\n",
    "reset_1965['Year']=1965\n",
    "reset_1966['Year']=1966\n",
    "reset_1967['Year']=1967\n",
    "reset_1968['Year']=1968\n",
    "reset_1969['Year']=1969\n",
    "reset_1970['Year']=1970\n",
    "reset_1971['Year']=1971\n",
    "reset_1972['Year']=1972\n",
    "reset_1973['Year']=1973\n",
    "reset_1974['Year']=1974\n",
    "reset_1975['Year']=1975\n",
    "reset_1976['Year']=1976\n",
    "reset_1977['Year']=1977\n",
    "reset_1978['Year']=1978\n",
    "reset_1979['Year']=1979\n",
    "reset_1980['Year']=1980\n",
    "reset_1981['Year']=1981\n",
    "reset_1982['Year']=1982\n",
    "reset_1983['Year']=1983\n",
    "reset_1984['Year']=1984\n",
    "reset_1985['Year']=1985\n",
    "reset_1986['Year']=1986\n",
    "reset_1987['Year']=1987\n",
    "reset_1988['Year']=1988\n",
    "reset_1989['Year']=1989\n",
    "reset_1990['Year']=1990\n",
    "reset_1991['Year']=1991\n",
    "reset_1992['Year']=1992\n",
    "reset_1993['Year']=1993\n",
    "reset_1994['Year']=1994\n",
    "reset_1995['Year']=1995\n",
    "reset_1996['Year']=1996\n",
    "reset_1997['Year']=1997\n",
    "reset_1998['Year']=1998\n",
    "reset_1999['Year']=1999\n",
    "reset_2000['Year']=2000\n",
    "reset_2001['Year']=2001\n",
    "reset_2002['Year']=2002\n",
    "reset_2003['Year']=2003\n",
    "reset_2004['Year']=2004\n",
    "reset_2005['Year']=2005\n",
    "reset_2006['Year']=2006\n",
    "reset_2007['Year']=2007\n",
    "reset_2008['Year']=2008\n",
    "reset_2009['Year']=2009\n",
    "reset_2010['Year']=2010\n",
    "reset_2011['Year']=2011\n",
    "reset_2012['Year']=2012\n",
    "reset_2013['Year']=2013\n",
    "reset_2014['Year']=2014\n",
    "reset_2015['Year']=2015\n",
    "reset_2016['Year']=2016\n",
    "reset_2017['Year']=2017\n",
    "reset_2018['Year']=2018\n",
    "reset_2019['Year']=2019\n",
    "reset_2020['Year']=2020\n",
    "\n",
    "all_year = [reset_1960,reset_1961,reset_1962,reset_1963,reset_1964,reset_1965,reset_1966,reset_1967,reset_1968,reset_1969,reset_1970,reset_1971,reset_1972,reset_1973,reset_1974,reset_1975,reset_1976,reset_1977,reset_1978,reset_1979,reset_1980,reset_1981,reset_1982,reset_1983,reset_1984,reset_1985,reset_1986,reset_1987,reset_1988,reset_1989,reset_1990,reset_1991,reset_1992,reset_1993,reset_1994,reset_1995,reset_1996,reset_1997,reset_1998,reset_1999,reset_2000,reset_2001,reset_2002,reset_2003,reset_2004,reset_2005,reset_2006,reset_2007,reset_2008,\treset_2009,reset_2010,\treset_2011,reset_2012,reset_2013,reset_2014,reset_2015,reset_2016,\treset_2017,reset_2018,reset_2019,reset_2020]\n",
    "\n",
    "concate_data= pd.concat(all_year)\n",
    "\n",
    "all_year_data =concate_data.replace(0, np.nan)\n",
    "\n",
    "\n",
    "# Rename column\n",
    "indicator_cleandata=all_year_data.rename(columns={\"Coverage of social insurance programs (% of population)\": \"social_insurance\",\n",
    "                              \"Series Name\":\"Series_name\",\n",
    "                              \"Country Name\":\"Country\",                  \n",
    "                              \"Country Code\":\"country_code\",\n",
    "                              \"Coverage of social protection and labor programs (% of population)\": \"social_protection\",\n",
    "                              \"Coverage of unemployment benefits and ALMP (% of population)\":\"unemployment_benefits\",\n",
    "                              \"Educational attainment, at least completed primary, population 25+ years, total (%) (cumulative)\": \"Educational_attainment\",\n",
    "                              \"Employment to population ratio, 15+, female (%) (national estimate)\":\"Female_employment\",\n",
    "                              \"Employment to population ratio, 15+, male (%) (national estimate)\": \"Male_employment\",\n",
    "                              \"GDP per capita (current US$)\": \"GDP_per_capita\",\n",
    "                              \"Labor force participation rate, female (% of female population ages 15+) (national estimate)\": \"Labor_force_rate_female\",\n",
    "                              \"Labor force participation rate, male (% of male population ages 15+) (national estimate)\": \"Labor_force_rate_male\",\n",
    "                              \"Labor force participation rate, total (% of total population ages 15+) (national estimate)\": \"Labor_force_total\",\n",
    "                              \"Labor force with basic education (% of total working-age population with basic education)\":\"Labour_force_with_basic_education\",\n",
    "                              \"Labor force with basic education, female (% of female working-age population with basic education)\":\"Labour_force_with_basic_education_female\",\n",
    "                              \"Life expectancy at birth, female (years)\":\"life_expectancy_female\",\"Life expectancy at birth, male (years)\": \"Life_expectancy_male\",\n",
    "                              \"Life expectancy at birth, total (years)\":\"Life_expectancy_total\",\"Population, total\":\"Total_population\",\n",
    "                              \"Suicide mortality rate (per 100,000 population)\":\"Suicide_mortality_rate_per_100k\",\n",
    "                              \"Suicide mortality rate, female (per 100,000 female population)\":\"Suicide_mortality_rate_per_100k_female\",\n",
    "                              \"Suicide mortality rate, male (per 100,000 male population)\":\"Suicide_mortality_rate_per_100k_male\",\n",
    "                              \"Unemployment with basic education (% of total labor force with basic education)\":\"unemployment_with_basic_education_total\",\n",
    "                              \"Unemployment with basic education, female (% of female labor force with basic education)\":\"Unemployment_with_basic_education_female\",\n",
    "                              \"Unemployment with basic education, male (% of male labor force with basic education)\":\"Unemployment_with_basic_education_male\"})\n",
    "indicator_cleandata.to_csv('Data/clean_indicator.csv')\n",
    "indicator_cleandata.head()"
   ]
  },
  {
   "cell_type": "code",
   "execution_count": 799,
   "metadata": {},
   "outputs": [
    {
     "name": "stdout",
     "output_type": "stream",
     "text": [
      "<class 'pandas.core.frame.DataFrame'>\n",
      "Int64Index: 16043 entries, 0 to 262\n",
      "Data columns (total 22 columns):\n",
      " #   Column                                    Non-Null Count  Dtype  \n",
      "---  ------                                    --------------  -----  \n",
      " 0   Country                                   16043 non-null  object \n",
      " 1   country_code                              16043 non-null  object \n",
      " 2   social_insurance                          372 non-null    float64\n",
      " 3   social_protection                         404 non-null    float64\n",
      " 4   unemployment_benefits                     201 non-null    float64\n",
      " 5   Female_employment                         3713 non-null   float64\n",
      " 6   Male_employment                           3709 non-null   float64\n",
      " 7   Labor_force_rate_female                   4639 non-null   float64\n",
      " 8   Labor_force_rate_male                     4640 non-null   float64\n",
      " 9   Labor_force_total                         4905 non-null   float64\n",
      " 10  Labour_force_with_basic_education         1869 non-null   float64\n",
      " 11  Labour_force_with_basic_education_female  1869 non-null   float64\n",
      " 12  life_expectancy_female                    14245 non-null  float64\n",
      " 13  Life_expectancy_total                     14245 non-null  float64\n",
      " 14  Total_population                          15671 non-null  float64\n",
      " 15  Suicide_mortality_rate_per_100k           1145 non-null   float64\n",
      " 16  Suicide_mortality_rate_per_100k_female    1141 non-null   float64\n",
      " 17  Suicide_mortality_rate_per_100k_male      1143 non-null   float64\n",
      " 18  unemployment_with_basic_education_total   1999 non-null   float64\n",
      " 19  Unemployment_with_basic_education_female  1988 non-null   float64\n",
      " 20  Unemployment_with_basic_education_male    1991 non-null   float64\n",
      " 21  Year                                      16043 non-null  int64  \n",
      "dtypes: float64(19), int64(1), object(2)\n",
      "memory usage: 2.8+ MB\n"
     ]
    }
   ],
   "source": [
    "indicator_cleandata.info() "
   ]
  },
  {
   "cell_type": "code",
   "execution_count": 800,
   "metadata": {},
   "outputs": [
    {
     "name": "stdout",
     "output_type": "stream",
     "text": [
      "Display items with correlation coefficient of 0.3 or more and -0.3 or less\n",
      "Positive correlation\n"
     ]
    },
    {
     "data": {
      "text/plain": [
       "social_insurance                          0.515644\n",
       "Suicide_mortality_rate_per_100k           1.000000\n",
       "Suicide_mortality_rate_per_100k_female    0.781382\n",
       "Suicide_mortality_rate_per_100k_male      0.976155\n",
       "Name: Suicide_mortality_rate_per_100k, dtype: float64"
      ]
     },
     "metadata": {},
     "output_type": "display_data"
    },
    {
     "name": "stdout",
     "output_type": "stream",
     "text": [
      "Negative correlation\n"
     ]
    },
    {
     "data": {
      "text/plain": [
       "Labour_force_with_basic_education   -0.511196\n",
       "Name: Suicide_mortality_rate_per_100k, dtype: float64"
      ]
     },
     "metadata": {},
     "output_type": "display_data"
    },
    {
     "data": {
      "image/png": "[encoded data removed]",
      "text/plain": [
       "<Figure size 720x576 with 2 Axes>"
      ]
     },
     "metadata": {},
     "output_type": "display_data"
    }
   ],
   "source": [
    "# Before we doing the ML we tried to see If there is any coorelation between factors on \"Suicide_mortality_rate_per_100k\" \n",
    "indicator_corr= pd.get_dummies(indicator_cleandata).corr()\n",
    "indicator_corr_treatment= indicator_corr[\"Suicide_mortality_rate_per_100k\"]\n",
    "\n",
    "print(\"Display items with correlation coefficient of 0.3 or more and -0.3 or less\")\n",
    "# Get values with a correlation coefficient of 0.2 or more and -0.2 or less\n",
    "target_cc_value = 0.4\n",
    "\n",
    "print(\"Positive correlation\")\n",
    "display(indicator_corr_treatment[indicator_corr_treatment >= target_cc_value])\n",
    "print(\"Negative correlation\")\n",
    "display(indicator_corr_treatment[indicator_corr_treatment <= (-1*target_cc_value)])\n",
    "\n",
    "df_indexs = indicator_corr[(indicator_corr[\"Suicide_mortality_rate_per_100k\"] >= target_cc_value) | (indicator_corr[\"Suicide_mortality_rate_per_100k\"] <= (-1 * target_cc_value))].index\n",
    "\n",
    "#print(indicator_corr)\n",
    "df_cc_target=indicator_corr.loc[df_indexs,df_indexs]\n",
    "plt.figure(figsize=(10, 8)) #heatmap size\n",
    "sns.heatmap(df_cc_target, annot=True, linewidths=.5)\n",
    "plt.savefig(\"static/images/corr.png\", bbox_inches = \"tight\")\n",
    "plt.tight_layout()\n",
    "plt.show()"
   ]
  },
  {
   "cell_type": "code",
   "execution_count": 801,
   "metadata": {},
   "outputs": [
    {
     "data": {
      "image/png": "[encoded data removed]",
      "text/plain": [
       "<Figure size 900x900 with 30 Axes>"
      ]
     },
     "metadata": {},
     "output_type": "display_data"
    }
   ],
   "source": [
    "g = sns.pairplot(df_cc_target)\n",
    "g.map_upper(sns.scatterplot, s=100,color = 'darkred')\n",
    "g.map_lower(sns.kdeplot)\n",
    "g.map_diag(sns.kdeplot, lw=2)\n",
    "plt.savefig(\"static/images/corrmatt.png\", bbox_inches = \"tight\")\n",
    "plt.tight_layout()\n",
    "plt.show()"
   ]
  },
  {
   "cell_type": "markdown",
   "metadata": {},
   "source": [
    "# 3. Machine Learning Analysis"
   ]
  },
  {
   "cell_type": "code",
   "execution_count": 802,
   "metadata": {},
   "outputs": [
    {
     "data": {
      "text/html": [
       "<div>\n",
       "<style scoped>\n",
       "    .dataframe tbody tr th:only-of-type {\n",
       "        vertical-align: middle;\n",
       "    }\n",
       "\n",
       "    .dataframe tbody tr th {\n",
       "        vertical-align: top;\n",
       "    }\n",
       "\n",
       "    .dataframe thead th {\n",
       "        text-align: right;\n",
       "    }\n",
       "</style>\n",
       "<table border=\"1\" class=\"dataframe\">\n",
       "  <thead>\n",
       "    <tr style=\"text-align: right;\">\n",
       "      <th>Series Name</th>\n",
       "      <th>Country</th>\n",
       "      <th>social_insurance</th>\n",
       "      <th>social_protection</th>\n",
       "      <th>unemployment_benefits</th>\n",
       "      <th>Female_employment</th>\n",
       "      <th>Male_employment</th>\n",
       "      <th>Labor_force_rate_female</th>\n",
       "      <th>Labor_force_rate_male</th>\n",
       "      <th>Labor_force_total</th>\n",
       "      <th>Labour_force_with_basic_education</th>\n",
       "      <th>Labour_force_with_basic_education_female</th>\n",
       "      <th>life_expectancy_female</th>\n",
       "      <th>Life_expectancy_total</th>\n",
       "      <th>Total_population</th>\n",
       "      <th>Suicide_mortality_rate_per_100k</th>\n",
       "      <th>Suicide_mortality_rate_per_100k_female</th>\n",
       "      <th>Suicide_mortality_rate_per_100k_male</th>\n",
       "      <th>unemployment_with_basic_education_total</th>\n",
       "      <th>Unemployment_with_basic_education_female</th>\n",
       "      <th>Unemployment_with_basic_education_male</th>\n",
       "    </tr>\n",
       "  </thead>\n",
       "  <tbody>\n",
       "    <tr>\n",
       "      <th>0</th>\n",
       "      <td>Albania</td>\n",
       "      <td>41.096936</td>\n",
       "      <td>61.306452</td>\n",
       "      <td>10.132416</td>\n",
       "      <td>40.581079</td>\n",
       "      <td>55.584757</td>\n",
       "      <td>42.191883</td>\n",
       "      <td>58.822420</td>\n",
       "      <td>50.342830</td>\n",
       "      <td>45.807854</td>\n",
       "      <td>38.922623</td>\n",
       "      <td>73.844085</td>\n",
       "      <td>71.563441</td>\n",
       "      <td>2.708297e+06</td>\n",
       "      <td>6.46</td>\n",
       "      <td>4.88</td>\n",
       "      <td>8.02</td>\n",
       "      <td>11.840331</td>\n",
       "      <td>10.500746</td>\n",
       "      <td>12.950308</td>\n",
       "    </tr>\n",
       "    <tr>\n",
       "      <th>1</th>\n",
       "      <td>Argentina</td>\n",
       "      <td>29.696534</td>\n",
       "      <td>42.901479</td>\n",
       "      <td>0.951552</td>\n",
       "      <td>39.046175</td>\n",
       "      <td>64.342229</td>\n",
       "      <td>40.683966</td>\n",
       "      <td>75.014531</td>\n",
       "      <td>57.172521</td>\n",
       "      <td>51.380139</td>\n",
       "      <td>35.616492</td>\n",
       "      <td>74.472983</td>\n",
       "      <td>71.031729</td>\n",
       "      <td>3.230120e+07</td>\n",
       "      <td>9.04</td>\n",
       "      <td>3.56</td>\n",
       "      <td>14.78</td>\n",
       "      <td>11.624067</td>\n",
       "      <td>13.626500</td>\n",
       "      <td>10.545540</td>\n",
       "    </tr>\n",
       "    <tr>\n",
       "      <th>2</th>\n",
       "      <td>Armenia</td>\n",
       "      <td>52.777384</td>\n",
       "      <td>65.270131</td>\n",
       "      <td>3.592037</td>\n",
       "      <td>39.940654</td>\n",
       "      <td>55.696192</td>\n",
       "      <td>49.857543</td>\n",
       "      <td>67.088551</td>\n",
       "      <td>57.659765</td>\n",
       "      <td>35.050225</td>\n",
       "      <td>26.788200</td>\n",
       "      <td>73.626424</td>\n",
       "      <td>70.604831</td>\n",
       "      <td>2.912377e+06</td>\n",
       "      <td>5.46</td>\n",
       "      <td>2.24</td>\n",
       "      <td>9.06</td>\n",
       "      <td>17.039125</td>\n",
       "      <td>13.007517</td>\n",
       "      <td>19.173558</td>\n",
       "    </tr>\n",
       "    <tr>\n",
       "      <th>3</th>\n",
       "      <td>Bangladesh</td>\n",
       "      <td>1.365637</td>\n",
       "      <td>24.248428</td>\n",
       "      <td>4.320003</td>\n",
       "      <td>36.217546</td>\n",
       "      <td>88.275061</td>\n",
       "      <td>30.461775</td>\n",
       "      <td>86.476388</td>\n",
       "      <td>59.068462</td>\n",
       "      <td>61.267900</td>\n",
       "      <td>36.667320</td>\n",
       "      <td>58.481915</td>\n",
       "      <td>58.323525</td>\n",
       "      <td>1.036261e+08</td>\n",
       "      <td>6.28</td>\n",
       "      <td>7.76</td>\n",
       "      <td>4.78</td>\n",
       "      <td>3.340320</td>\n",
       "      <td>5.426740</td>\n",
       "      <td>2.472680</td>\n",
       "    </tr>\n",
       "    <tr>\n",
       "      <th>4</th>\n",
       "      <td>Belize</td>\n",
       "      <td>28.189539</td>\n",
       "      <td>39.387019</td>\n",
       "      <td>5.721098</td>\n",
       "      <td>37.650920</td>\n",
       "      <td>73.936151</td>\n",
       "      <td>37.443678</td>\n",
       "      <td>73.280892</td>\n",
       "      <td>55.108950</td>\n",
       "      <td>58.037650</td>\n",
       "      <td>38.244650</td>\n",
       "      <td>71.126458</td>\n",
       "      <td>68.946746</td>\n",
       "      <td>2.076720e+05</td>\n",
       "      <td>4.96</td>\n",
       "      <td>1.82</td>\n",
       "      <td>8.16</td>\n",
       "      <td>9.716186</td>\n",
       "      <td>16.777500</td>\n",
       "      <td>6.184928</td>\n",
       "    </tr>\n",
       "  </tbody>\n",
       "</table>\n",
       "</div>"
      ],
      "text/plain": [
       "Series Name     Country  social_insurance  social_protection  \\\n",
       "0               Albania         41.096936          61.306452   \n",
       "1             Argentina         29.696534          42.901479   \n",
       "2               Armenia         52.777384          65.270131   \n",
       "3            Bangladesh          1.365637          24.248428   \n",
       "4                Belize         28.189539          39.387019   \n",
       "\n",
       "Series Name  unemployment_benefits  Female_employment  Male_employment  \\\n",
       "0                        10.132416          40.581079        55.584757   \n",
       "1                         0.951552          39.046175        64.342229   \n",
       "2                         3.592037          39.940654        55.696192   \n",
       "3                         4.320003          36.217546        88.275061   \n",
       "4                         5.721098          37.650920        73.936151   \n",
       "\n",
       "Series Name  Labor_force_rate_female  Labor_force_rate_male  \\\n",
       "0                          42.191883              58.822420   \n",
       "1                          40.683966              75.014531   \n",
       "2                          49.857543              67.088551   \n",
       "3                          30.461775              86.476388   \n",
       "4                          37.443678              73.280892   \n",
       "\n",
       "Series Name  Labor_force_total  Labour_force_with_basic_education  \\\n",
       "0                    50.342830                          45.807854   \n",
       "1                    57.172521                          51.380139   \n",
       "2                    57.659765                          35.050225   \n",
       "3                    59.068462                          61.267900   \n",
       "4                    55.108950                          58.037650   \n",
       "\n",
       "Series Name  Labour_force_with_basic_education_female  life_expectancy_female  \\\n",
       "0                                           38.922623               73.844085   \n",
       "1                                           35.616492               74.472983   \n",
       "2                                           26.788200               73.626424   \n",
       "3                                           36.667320               58.481915   \n",
       "4                                           38.244650               71.126458   \n",
       "\n",
       "Series Name  Life_expectancy_total  Total_population  \\\n",
       "0                        71.563441      2.708297e+06   \n",
       "1                        71.031729      3.230120e+07   \n",
       "2                        70.604831      2.912377e+06   \n",
       "3                        58.323525      1.036261e+08   \n",
       "4                        68.946746      2.076720e+05   \n",
       "\n",
       "Series Name  Suicide_mortality_rate_per_100k  \\\n",
       "0                                       6.46   \n",
       "1                                       9.04   \n",
       "2                                       5.46   \n",
       "3                                       6.28   \n",
       "4                                       4.96   \n",
       "\n",
       "Series Name  Suicide_mortality_rate_per_100k_female  \\\n",
       "0                                              4.88   \n",
       "1                                              3.56   \n",
       "2                                              2.24   \n",
       "3                                              7.76   \n",
       "4                                              1.82   \n",
       "\n",
       "Series Name  Suicide_mortality_rate_per_100k_male  \\\n",
       "0                                            8.02   \n",
       "1                                           14.78   \n",
       "2                                            9.06   \n",
       "3                                            4.78   \n",
       "4                                            8.16   \n",
       "\n",
       "Series Name  unemployment_with_basic_education_total  \\\n",
       "0                                          11.840331   \n",
       "1                                          11.624067   \n",
       "2                                          17.039125   \n",
       "3                                           3.340320   \n",
       "4                                           9.716186   \n",
       "\n",
       "Series Name  Unemployment_with_basic_education_female  \\\n",
       "0                                           10.500746   \n",
       "1                                           13.626500   \n",
       "2                                           13.007517   \n",
       "3                                            5.426740   \n",
       "4                                           16.777500   \n",
       "\n",
       "Series Name  Unemployment_with_basic_education_male  \n",
       "0                                         12.950308  \n",
       "1                                         10.545540  \n",
       "2                                         19.173558  \n",
       "3                                          2.472680  \n",
       "4                                          6.184928  "
      ]
     },
     "execution_count": 802,
     "metadata": {},
     "output_type": "execute_result"
    }
   ],
   "source": [
    "# prepare the data\n",
    "ready_data=indicator_cleandata.drop(\"Year\",axis=1)\n",
    "df = ready_data.groupby(['Country']).mean()\n",
    "clean=df.dropna().reset_index()\n",
    "clean.head()"
   ]
  },
  {
   "cell_type": "markdown",
   "metadata": {},
   "source": [
    "# 3A. Linear regression"
   ]
  },
  {
   "cell_type": "code",
   "execution_count": 803,
   "metadata": {},
   "outputs": [
    {
     "data": {
      "text/plain": [
       "Index(['social_protection', 'unemployment_benefits', 'Female_employment',\n",
       "       'Male_employment', 'Labor_force_rate_female', 'Labor_force_rate_male',\n",
       "       'Labor_force_total', 'Labour_force_with_basic_education',\n",
       "       'Labour_force_with_basic_education_female', 'life_expectancy_female',\n",
       "       'Life_expectancy_total', 'unemployment_with_basic_education_total',\n",
       "       'Unemployment_with_basic_education_female',\n",
       "       'Unemployment_with_basic_education_male'],\n",
       "      dtype='object', name='Series Name')"
      ]
     },
     "execution_count": 803,
     "metadata": {},
     "output_type": "execute_result"
    }
   ],
   "source": [
    "y = clean[\"Suicide_mortality_rate_per_100k\"].values\n",
    "data = clean.drop(\"Country\",axis=1).drop(\"Suicide_mortality_rate_per_100k\",axis=1).drop(\"Suicide_mortality_rate_per_100k_female\",axis=1).drop(\"Suicide_mortality_rate_per_100k_male\",axis=1).drop(\"Total_population\",axis=1)\n",
    "X=data.values\n",
    "x_columns = data.iloc[:,1:].columns\n",
    "x_columns\n",
    "\n"
   ]
  },
  {
   "cell_type": "code",
   "execution_count": 804,
   "metadata": {},
   "outputs": [
    {
     "data": {
      "text/plain": [
       "LinearRegression(copy_X=True, fit_intercept=True, n_jobs=None, normalize=False)"
      ]
     },
     "execution_count": 804,
     "metadata": {},
     "output_type": "execute_result"
    }
   ],
   "source": [
    "X_train, X_test, y_train, y_test = train_test_split(X, y, random_state=42)\n",
    "y_train = y_train.reshape(-1,1)\n",
    "y_test = y_test.reshape(-1,1)\n",
    "model = LinearRegression()\n",
    "model.fit(X_train, y_train)"
   ]
  },
  {
   "cell_type": "code",
   "execution_count": 805,
   "metadata": {},
   "outputs": [
    {
     "name": "stdout",
     "output_type": "stream",
     "text": [
      "[[-0.05836925  0.08092829 -0.22247886  1.07433485 -0.48574548 -0.42148772\n",
      "  -0.32681834  0.36360786  0.69079098 -1.01135106  3.56158427 -3.80398602\n",
      "   0.67729602  0.17960162 -0.80668075]]\n"
     ]
    }
   ],
   "source": [
    "print(model.coef_)"
   ]
  },
  {
   "cell_type": "code",
   "execution_count": 806,
   "metadata": {},
   "outputs": [
    {
     "name": "stdout",
     "output_type": "stream",
     "text": [
      "[24.73120899]\n"
     ]
    }
   ],
   "source": [
    "print(model.intercept_)"
   ]
  },
  {
   "cell_type": "code",
   "execution_count": 807,
   "metadata": {},
   "outputs": [
    {
     "name": "stdout",
     "output_type": "stream",
     "text": [
      "Training Score: 0.7025286422232244\n",
      "Testing Score: -0.3568799829241276\n"
     ]
    }
   ],
   "source": [
    "training_score = model.score(X_train, y_train)\n",
    "testing_score = model.score(X_test, y_test)\n",
    "print(f\"Training Score: {training_score}\")\n",
    "print(f\"Testing Score: {testing_score}\")"
   ]
  },
  {
   "cell_type": "code",
   "execution_count": 808,
   "metadata": {},
   "outputs": [
    {
     "data": {
      "text/plain": [
       "Text(0.5, 1.0, 'Residual Plot')"
      ]
     },
     "execution_count": 808,
     "metadata": {},
     "output_type": "execute_result"
    },
    {
     "data": {
      "image/png": "[encoded data removed]",
      "text/plain": [
       "<Figure size 1080x720 with 1 Axes>"
      ]
     },
     "metadata": {},
     "output_type": "display_data"
    }
   ],
   "source": [
    "plt.figure(figsize=(15, 10))\n",
    "plt.scatter(model.predict(X_train), model.predict(X_train) - y_train, c=\"blue\",s=150, label=\"Training Data\")\n",
    "plt.scatter(model.predict(X_test), model.predict(X_test) - y_test, c=\"orange\",s=150, label=\"Testing Data\")\n",
    "plt.legend()\n",
    "plt.hlines(y=0, xmin=y.min(), xmax=y.max())\n",
    "plt.title(\"Residual Plot\")"
   ]
  },
  {
   "cell_type": "code",
   "execution_count": 809,
   "metadata": {},
   "outputs": [
    {
     "name": "stdout",
     "output_type": "stream",
     "text": [
      "MSE: 37.893265250272826, R2: -0.3568799829241276, MAE: 5.121917851431638\n"
     ]
    }
   ],
   "source": [
    "predictions = model.predict(X_test)\n",
    "MSE = mean_squared_error(y_test, predictions)\n",
    "r2 = model.score(X_test, y_test)\n",
    "MAE=metrics.mean_absolute_error(y_test, predictions)\n",
    "print(f\"MSE: {MSE}, R2: {r2}, MAE: {MAE}\")"
   ]
  },
  {
   "cell_type": "markdown",
   "metadata": {},
   "source": [
    "# 3B. Decision Tree Regression"
   ]
  },
  {
   "cell_type": "code",
   "execution_count": 810,
   "metadata": {},
   "outputs": [
    {
     "data": {
      "text/plain": [
       "DecisionTreeRegressor(ccp_alpha=0.0, criterion='mse', max_depth=None,\n",
       "                      max_features=None, max_leaf_nodes=None,\n",
       "                      min_impurity_decrease=0.0, min_impurity_split=None,\n",
       "                      min_samples_leaf=1, min_samples_split=2,\n",
       "                      min_weight_fraction_leaf=0.0, presort='deprecated',\n",
       "                      random_state=0, splitter='best')"
      ]
     },
     "execution_count": 810,
     "metadata": {},
     "output_type": "execute_result"
    }
   ],
   "source": [
    "y = y.reshape(-1, 1)\n",
    "X_train, X_test, y_train, y_test = train_test_split(X, y, random_state=42)\n",
    "y_train = y_train.reshape(-1,1)\n",
    "y_test = y_test.reshape(-1,1)\n",
    "model=DecisionTreeRegressor(random_state = 0)\n",
    "model.fit(X_train, y_train)"
   ]
  },
  {
   "cell_type": "code",
   "execution_count": 811,
   "metadata": {},
   "outputs": [
    {
     "name": "stdout",
     "output_type": "stream",
     "text": [
      "Training Score: 1.0\n",
      "Testing Score: -2.1194058440095116\n"
     ]
    }
   ],
   "source": [
    "training_score = model.score(X_train, y_train)\n",
    "testing_score = model.score(X_test, y_test)\n",
    "print(f\"Training Score: {training_score}\")\n",
    "print(f\"Testing Score: {testing_score}\")"
   ]
  },
  {
   "cell_type": "code",
   "execution_count": 812,
   "metadata": {},
   "outputs": [],
   "source": [
    "y_pred=model.predict(X_test)"
   ]
  },
  {
   "cell_type": "code",
   "execution_count": 813,
   "metadata": {},
   "outputs": [
    {
     "name": "stdout",
     "output_type": "stream",
     "text": [
      "MSE: 87.11490666666664, R2: -2.1194058440095116, MAE: 6.041333333333332\n"
     ]
    }
   ],
   "source": [
    "predictions = model.predict(X_test)\n",
    "MSE = mean_squared_error(y_test, predictions)\n",
    "r2 = model.score(X_test, y_test)\n",
    "MAE=metrics.mean_absolute_error(y_test, predictions)\n",
    "print(f\"MSE: {MSE}, R2: {r2}, MAE: {MAE}\")"
   ]
  },
  {
   "cell_type": "markdown",
   "metadata": {},
   "source": [
    "# 3C. Support Vector Regression (SVR)"
   ]
  },
  {
   "cell_type": "code",
   "execution_count": 814,
   "metadata": {},
   "outputs": [],
   "source": [
    "X_train, X_test, y_train, y_test = train_test_split(X, y, test_size = 0.2, random_state = 0)\n",
    "y_train = y_train.reshape(-1,1)\n",
    "y_test = y_test.reshape(-1,1)"
   ]
  },
  {
   "cell_type": "code",
   "execution_count": 815,
   "metadata": {},
   "outputs": [
    {
     "data": {
      "text/plain": [
       "SVR(C=1.0, cache_size=200, coef0=0.0, degree=3, epsilon=0.1, gamma='scale',\n",
       "    kernel='rbf', max_iter=-1, shrinking=True, tol=0.001, verbose=False)"
      ]
     },
     "execution_count": 815,
     "metadata": {},
     "output_type": "execute_result"
    }
   ],
   "source": [
    "regressor = SVR(kernel = 'rbf')\n",
    "regressor.fit(X_train, y_train)"
   ]
  },
  {
   "cell_type": "code",
   "execution_count": 816,
   "metadata": {},
   "outputs": [
    {
     "name": "stdout",
     "output_type": "stream",
     "text": [
      "Training Score: 0.1805469504112408\n",
      "Testing Score: 0.13443139523155279\n"
     ]
    }
   ],
   "source": [
    "training_score = regressor.score(X_train, y_train)\n",
    "testing_score = regressor.score(X_test, y_test)\n",
    "print(f\"Training Score: {training_score}\")\n",
    "print(f\"Testing Score: {testing_score}\")"
   ]
  },
  {
   "cell_type": "code",
   "execution_count": 817,
   "metadata": {},
   "outputs": [],
   "source": [
    "y_pred=regressor.predict(X_test)"
   ]
  },
  {
   "cell_type": "code",
   "execution_count": 818,
   "metadata": {},
   "outputs": [
    {
     "name": "stdout",
     "output_type": "stream",
     "text": [
      "MSE: 90.97312614237849, R2: 0.13443139523155279, MAE: 6.234672625721537\n"
     ]
    }
   ],
   "source": [
    "predictions = regressor.predict(X_test)\n",
    "MSE = mean_squared_error(y_test, predictions)\n",
    "r2 = regressor.score(X_test, y_test)\n",
    "MAE=metrics.mean_absolute_error(y_test, predictions)\n",
    "print(f\"MSE: {MSE}, R2: {r2}, MAE: {MAE}\")"
   ]
  },
  {
   "cell_type": "code",
   "execution_count": 819,
   "metadata": {},
   "outputs": [
    {
     "name": "stdout",
     "output_type": "stream",
     "text": [
      "Test Acc: 0.853\n"
     ]
    }
   ],
   "source": [
    "# Model Accuracy\n",
    "print('Test Acc: %.3f' % model.score(X_test, y_test))"
   ]
  },
  {
   "cell_type": "markdown",
   "metadata": {},
   "source": [
    "# 3D. Logistic Regression\n",
    "\n",
    "For our logistic regression model we group our dependent variable (\"Suicide_mortality_rate_per_100k\") in two group below and above the mean the mean value( 11.5) of Suicide mortality rate per 100,000 at the national level. Suicide mortality rate above 11.5 would be high and below 11.5 would be low."
   ]
  },
  {
   "cell_type": "code",
   "execution_count": 820,
   "metadata": {},
   "outputs": [],
   "source": [
    "data = clean.drop(\"Country\",axis=1).drop(\"Suicide_mortality_rate_per_100k\",axis=1).drop(\"Suicide_mortality_rate_per_100k_female\",axis=1).drop(\"Suicide_mortality_rate_per_100k_male\",axis=1).drop(\"Total_population\",axis=1)\n",
    "X=data.values\n",
    "x_columns = data.iloc[:,1:].columns\n",
    "x_columns\n",
    "y = clean[\"Suicide_mortality_rate_per_100k\"]\n",
    "def score(i):\n",
    "    if i < 11.5: return \"Low\"\n",
    "    if i > 11.5: return \"High\"\n",
    "li = map(lambda x: \"{1}\".format(x, score(x)), y)\n",
    "y2=[]\n",
    "for i in li:\n",
    "    y2.append(i)\n"
   ]
  },
  {
   "cell_type": "code",
   "execution_count": 821,
   "metadata": {},
   "outputs": [
    {
     "data": {
      "text/plain": [
       "<matplotlib.collections.PathCollection at 0x1a26226b50>"
      ]
     },
     "execution_count": 821,
     "metadata": {},
     "output_type": "execute_result"
    },
    {
     "data": {
      "image/png": "[encoded data removed]",
      "text/plain": [
       "<Figure size 576x396 with 1 Axes>"
      ]
     },
     "metadata": {},
     "output_type": "display_data"
    }
   ],
   "source": [
    "sns.boxplot(y2,clean['social_insurance'])\n",
    "plt.scatter(y2,clean['Labour_force_with_basic_education'])"
   ]
  },
  {
   "cell_type": "code",
   "execution_count": 822,
   "metadata": {},
   "outputs": [
    {
     "data": {
      "text/plain": [
       "<matplotlib.collections.PathCollection at 0x1a2578dd10>"
      ]
     },
     "execution_count": 822,
     "metadata": {},
     "output_type": "execute_result"
    },
    {
     "data": {
      "image/png": "[encoded data removed]",
      "text/plain": [
       "<Figure size 576x396 with 1 Axes>"
      ]
     },
     "metadata": {},
     "output_type": "display_data"
    }
   ],
   "source": [
    "sns.boxplot(y2,clean['Labour_force_with_basic_education'])\n",
    "plt.scatter(y2,clean['Labour_force_with_basic_education'])"
   ]
  },
  {
   "cell_type": "code",
   "execution_count": 850,
   "metadata": {},
   "outputs": [],
   "source": [
    "norm=pd.get_dummies(y2, drop_first = False)\n",
    "norm_y=norm[\"High\"]\n",
    "norm_y=pd.DataFrame(norm_y)"
   ]
  },
  {
   "cell_type": "code",
   "execution_count": 851,
   "metadata": {},
   "outputs": [],
   "source": [
    "X_train, X_test, y_train, y_test = train_test_split(X, norm_y, random_state=42, test_size = 0.3)"
   ]
  },
  {
   "cell_type": "code",
   "execution_count": 852,
   "metadata": {},
   "outputs": [],
   "source": [
    "model = LogisticRegression()"
   ]
  },
  {
   "cell_type": "code",
   "execution_count": 853,
   "metadata": {},
   "outputs": [
    {
     "data": {
      "text/plain": [
       "LogisticRegression(C=1.0, class_weight=None, dual=False, fit_intercept=True,\n",
       "                   intercept_scaling=1, l1_ratio=None, max_iter=100,\n",
       "                   multi_class='auto', n_jobs=None, penalty='l2',\n",
       "                   random_state=None, solver='lbfgs', tol=0.0001, verbose=0,\n",
       "                   warm_start=False)"
      ]
     },
     "execution_count": 853,
     "metadata": {},
     "output_type": "execute_result"
    }
   ],
   "source": [
    "model.fit(X_train, y_train)"
   ]
  },
  {
   "cell_type": "code",
   "execution_count": 854,
   "metadata": {},
   "outputs": [
    {
     "name": "stdout",
     "output_type": "stream",
     "text": [
      "Training Data Score: 0.8\n",
      "Testing Data Score: 0.4444444444444444\n"
     ]
    }
   ],
   "source": [
    "print(f\"Training Data Score: {model.score(X_train, y_train)}\")\n",
    "print(f\"Testing Data Score: {model.score(X_test, y_test)}\")"
   ]
  },
  {
   "cell_type": "code",
   "execution_count": 855,
   "metadata": {},
   "outputs": [],
   "source": [
    "predictions = model.predict(X_test)"
   ]
  },
  {
   "cell_type": "code",
   "execution_count": 856,
   "metadata": {},
   "outputs": [
    {
     "name": "stdout",
     "output_type": "stream",
     "text": [
      "Accuracy：44.44%\n",
      "Recall：14.29%\n",
      "Precision：20.00%\n",
      "F1：16.67%\n"
     ]
    }
   ],
   "source": [
    "### Accuracy\n",
    "accuracy = accuracy_score(y_test, predictions)\n",
    "### Recall\n",
    "recall = recall_score(y_test, predictions)\n",
    "### Precision\n",
    "precision = precision_score(y_test, predictions)\n",
    "### F1\n",
    "f1 = f1_score(y_test, predictions)\n",
    "\n",
    "print('Accuracy：{0:.2f}%'.format(accuracy * 100))\n",
    "print('Recall：{0:.2f}%'.format(recall * 100))\n",
    "print('Precision：{0:.2f}%'.format(precision * 100))\n",
    "print('F1：{0:.2f}%'.format(f1 * 100))"
   ]
  },
  {
   "cell_type": "code",
   "execution_count": 857,
   "metadata": {},
   "outputs": [
    {
     "name": "stdout",
     "output_type": "stream",
     "text": [
      "              precision    recall  f1-score   support\n",
      "\n",
      "           0       0.54      0.64      0.58        11\n",
      "           1       0.20      0.14      0.17         7\n",
      "\n",
      "    accuracy                           0.44        18\n",
      "   macro avg       0.37      0.39      0.38        18\n",
      "weighted avg       0.41      0.44      0.42        18\n",
      "\n"
     ]
    }
   ],
   "source": [
    "print(classification_report(y_test, predictions))"
   ]
  },
  {
   "cell_type": "code",
   "execution_count": 858,
   "metadata": {},
   "outputs": [
    {
     "data": {
      "text/plain": [
       "<matplotlib.axes._subplots.AxesSubplot at 0x1a31534b50>"
      ]
     },
     "execution_count": 858,
     "metadata": {},
     "output_type": "execute_result"
    },
    {
     "data": {
      "image/png": "[encoded data removed]",
      "text/plain": [
       "<Figure size 576x396 with 2 Axes>"
      ]
     },
     "metadata": {},
     "output_type": "display_data"
    }
   ],
   "source": [
    "viz = ClassificationReport(LogisticRegression(),cmap=\"PuBu\")\n",
    "viz.fit(X_train, y_train)\n",
    "viz.score(X_test, y_test)\n",
    "viz.finalize()\n",
    "viz.show(outpath=\"image/logisticregression_classifier.png\")"
   ]
  },
  {
   "cell_type": "markdown",
   "metadata": {},
   "source": [
    "# 3E. Support Vector Machine "
   ]
  },
  {
   "cell_type": "code",
   "execution_count": 859,
   "metadata": {},
   "outputs": [],
   "source": [
    "X_minmax = MinMaxScaler().fit(X_train)\n",
    "X_train_minmax = X_minmax.transform(X_train)\n",
    "X_test_minmax = X_minmax.transform(X_test)"
   ]
  },
  {
   "cell_type": "code",
   "execution_count": 860,
   "metadata": {},
   "outputs": [
    {
     "data": {
      "text/plain": [
       "SVC(C=1.0, break_ties=False, cache_size=200, class_weight=None, coef0=0.0,\n",
       "    decision_function_shape='ovr', degree=3, gamma='scale', kernel='linear',\n",
       "    max_iter=-1, probability=False, random_state=None, shrinking=True,\n",
       "    tol=0.001, verbose=False)"
      ]
     },
     "execution_count": 860,
     "metadata": {},
     "output_type": "execute_result"
    }
   ],
   "source": [
    "model = SVC(kernel='linear')\n",
    "model.fit(X_train_minmax, y_train)"
   ]
  },
  {
   "cell_type": "code",
   "execution_count": 861,
   "metadata": {},
   "outputs": [
    {
     "name": "stdout",
     "output_type": "stream",
     "text": [
      "Training Data Score: 0.775\n",
      "Testing Data Score: 0.7222222222222222\n"
     ]
    }
   ],
   "source": [
    "print(f\"Training Data Score: {model.score(X_train_minmax, y_train)}\")\n",
    "print(f\"Testing Data Score: {model.score(X_test_minmax, y_test)}\")"
   ]
  },
  {
   "cell_type": "code",
   "execution_count": 862,
   "metadata": {},
   "outputs": [],
   "source": [
    "param_grid = {'C': [1, 5, 10, 50],\n",
    "              'gamma': [0.0001, 0.0005, 0.001, 0.005]}\n",
    "grid = GridSearchCV(model, param_grid, verbose=3)"
   ]
  },
  {
   "cell_type": "code",
   "execution_count": 863,
   "metadata": {},
   "outputs": [
    {
     "name": "stdout",
     "output_type": "stream",
     "text": [
      "Fitting 5 folds for each of 16 candidates, totalling 80 fits\n",
      "[CV] C=1, gamma=0.0001 ...............................................\n",
      "[CV] ................... C=1, gamma=0.0001, score=0.875, total=   0.0s\n",
      "[CV] C=1, gamma=0.0001 ...............................................\n",
      "[CV] ................... C=1, gamma=0.0001, score=0.625, total=   0.0s\n",
      "[CV] C=1, gamma=0.0001 ...............................................\n",
      "[CV] ................... C=1, gamma=0.0001, score=0.375, total=   0.0s\n",
      "[CV] C=1, gamma=0.0001 ...............................................\n",
      "[CV] ................... C=1, gamma=0.0001, score=0.875, total=   0.0s\n",
      "[CV] C=1, gamma=0.0001 ...............................................\n",
      "[CV] ................... C=1, gamma=0.0001, score=0.750, total=   0.0s\n",
      "[CV] C=1, gamma=0.0005 ...............................................\n",
      "[CV] ................... C=1, gamma=0.0005, score=0.875, total=   0.0s\n",
      "[CV] C=1, gamma=0.0005 ...............................................\n",
      "[CV] ................... C=1, gamma=0.0005, score=0.625, total=   0.0s\n",
      "[CV] C=1, gamma=0.0005 ...............................................\n",
      "[CV] ................... C=1, gamma=0.0005, score=0.375, total=   0.0s\n",
      "[CV] C=1, gamma=0.0005 ...............................................\n",
      "[CV] ................... C=1, gamma=0.0005, score=0.875, total=   0.0s\n",
      "[CV] C=1, gamma=0.0005 ...............................................\n",
      "[CV] ................... C=1, gamma=0.0005, score=0.750, total=   0.0s\n",
      "[CV] C=1, gamma=0.001 ................................................\n",
      "[CV] .................... C=1, gamma=0.001, score=0.875, total=   0.0s\n",
      "[CV] C=1, gamma=0.001 ................................................\n",
      "[CV] .................... C=1, gamma=0.001, score=0.625, total=   0.0s\n",
      "[CV] C=1, gamma=0.001 ................................................\n",
      "[CV] .................... C=1, gamma=0.001, score=0.375, total=   0.0s\n",
      "[CV] C=1, gamma=0.001 ................................................\n",
      "[CV] .................... C=1, gamma=0.001, score=0.875, total=   0.0s\n",
      "[CV] C=1, gamma=0.001 ................................................\n",
      "[CV] .................... C=1, gamma=0.001, score=0.750, total=   0.0s\n",
      "[CV] C=1, gamma=0.005 ................................................\n",
      "[CV] .................... C=1, gamma=0.005, score=0.875, total=   0.0s\n",
      "[CV] C=1, gamma=0.005 ................................................\n",
      "[CV] .................... C=1, gamma=0.005, score=0.625, total=   0.0s\n",
      "[CV] C=1, gamma=0.005 ................................................\n",
      "[CV] .................... C=1, gamma=0.005, score=0.375, total=   0.0s\n",
      "[CV] C=1, gamma=0.005 ................................................\n",
      "[CV] .................... C=1, gamma=0.005, score=0.875, total=   0.0s\n",
      "[CV] C=1, gamma=0.005 ................................................\n",
      "[CV] .................... C=1, gamma=0.005, score=0.750, total=   0.0s\n",
      "[CV] C=5, gamma=0.0001 ...............................................\n",
      "[CV] ................... C=5, gamma=0.0001, score=0.875, total=   0.0s\n",
      "[CV] C=5, gamma=0.0001 ...............................................\n",
      "[CV] ................... C=5, gamma=0.0001, score=0.750, total=   0.0s\n",
      "[CV] C=5, gamma=0.0001 ...............................................\n",
      "[CV] ................... C=5, gamma=0.0001, score=0.375, total=   0.0s\n",
      "[CV] C=5, gamma=0.0001 ...............................................\n",
      "[CV] ................... C=5, gamma=0.0001, score=0.625, total=   0.0s\n",
      "[CV] C=5, gamma=0.0001 ...............................................\n",
      "[CV] ................... C=5, gamma=0.0001, score=0.750, total=   0.0s\n",
      "[CV] C=5, gamma=0.0005 ...............................................\n",
      "[CV] ................... C=5, gamma=0.0005, score=0.875, total=   0.0s\n",
      "[CV] C=5, gamma=0.0005 ...............................................\n",
      "[CV] ................... C=5, gamma=0.0005, score=0.750, total=   0.0s\n",
      "[CV] C=5, gamma=0.0005 ...............................................\n",
      "[CV] ................... C=5, gamma=0.0005, score=0.375, total=   0.0s\n",
      "[CV] C=5, gamma=0.0005 ...............................................\n",
      "[CV] ................... C=5, gamma=0.0005, score=0.625, total=   0.0s\n",
      "[CV] C=5, gamma=0.0005 ...............................................\n",
      "[CV] ................... C=5, gamma=0.0005, score=0.750, total=   0.0s\n",
      "[CV] C=5, gamma=0.001 ................................................\n",
      "[CV] .................... C=5, gamma=0.001, score=0.875, total=   0.0s\n",
      "[CV] C=5, gamma=0.001 ................................................\n",
      "[CV] .................... C=5, gamma=0.001, score=0.750, total=   0.0s\n",
      "[CV] C=5, gamma=0.001 ................................................\n",
      "[CV] .................... C=5, gamma=0.001, score=0.375, total=   0.0s\n",
      "[CV] C=5, gamma=0.001 ................................................\n",
      "[CV] .................... C=5, gamma=0.001, score=0.625, total=   0.0s\n",
      "[CV] C=5, gamma=0.001 ................................................\n",
      "[CV] .................... C=5, gamma=0.001, score=0.750, total=   0.0s\n",
      "[CV] C=5, gamma=0.005 ................................................\n",
      "[CV] .................... C=5, gamma=0.005, score=0.875, total=   0.0s\n",
      "[CV] C=5, gamma=0.005 ................................................\n",
      "[CV] .................... C=5, gamma=0.005, score=0.750, total=   0.0s\n",
      "[CV] C=5, gamma=0.005 ................................................\n",
      "[CV] .................... C=5, gamma=0.005, score=0.375, total=   0.0s\n",
      "[CV] C=5, gamma=0.005 ................................................\n",
      "[CV] .................... C=5, gamma=0.005, score=0.625, total=   0.0s\n",
      "[CV] C=5, gamma=0.005 ................................................\n",
      "[CV] .................... C=5, gamma=0.005, score=0.750, total=   0.0s\n",
      "[CV] C=10, gamma=0.0001 ..............................................\n",
      "[CV] .................. C=10, gamma=0.0001, score=0.875, total=   0.0s\n",
      "[CV] C=10, gamma=0.0001 ..............................................\n",
      "[CV] .................. C=10, gamma=0.0001, score=0.750, total=   0.0s\n",
      "[CV] C=10, gamma=0.0001 ..............................................\n",
      "[CV] .................. C=10, gamma=0.0001, score=0.375, total=   0.0s\n",
      "[CV] C=10, gamma=0.0001 ..............................................\n",
      "[CV] .................. C=10, gamma=0.0001, score=0.625, total=   0.0s\n",
      "[CV] C=10, gamma=0.0001 ..............................................\n",
      "[CV] .................. C=10, gamma=0.0001, score=0.750, total=   0.0s\n",
      "[CV] C=10, gamma=0.0005 ..............................................\n",
      "[CV] .................. C=10, gamma=0.0005, score=0.875, total=   0.0s\n",
      "[CV] C=10, gamma=0.0005 ..............................................\n"
     ]
    },
    {
     "name": "stderr",
     "output_type": "stream",
     "text": [
      "[Parallel(n_jobs=1)]: Using backend SequentialBackend with 1 concurrent workers.\n",
      "[Parallel(n_jobs=1)]: Done   1 out of   1 | elapsed:    0.0s remaining:    0.0s\n",
      "[Parallel(n_jobs=1)]: Done   2 out of   2 | elapsed:    0.0s remaining:    0.0s\n"
     ]
    },
    {
     "name": "stdout",
     "output_type": "stream",
     "text": [
      "[CV] .................. C=10, gamma=0.0005, score=0.750, total=   0.0s\n",
      "[CV] C=10, gamma=0.0005 ..............................................\n",
      "[CV] .................. C=10, gamma=0.0005, score=0.375, total=   0.0s\n",
      "[CV] C=10, gamma=0.0005 ..............................................\n",
      "[CV] .................. C=10, gamma=0.0005, score=0.625, total=   0.0s\n",
      "[CV] C=10, gamma=0.0005 ..............................................\n",
      "[CV] .................. C=10, gamma=0.0005, score=0.750, total=   0.0s\n",
      "[CV] C=10, gamma=0.001 ...............................................\n",
      "[CV] ................... C=10, gamma=0.001, score=0.875, total=   0.0s\n",
      "[CV] C=10, gamma=0.001 ...............................................\n",
      "[CV] ................... C=10, gamma=0.001, score=0.750, total=   0.0s\n",
      "[CV] C=10, gamma=0.001 ...............................................\n",
      "[CV] ................... C=10, gamma=0.001, score=0.375, total=   0.0s\n",
      "[CV] C=10, gamma=0.001 ...............................................\n",
      "[CV] ................... C=10, gamma=0.001, score=0.625, total=   0.0s\n",
      "[CV] C=10, gamma=0.001 ...............................................\n",
      "[CV] ................... C=10, gamma=0.001, score=0.750, total=   0.0s\n",
      "[CV] C=10, gamma=0.005 ...............................................\n",
      "[CV] ................... C=10, gamma=0.005, score=0.875, total=   0.0s\n",
      "[CV] C=10, gamma=0.005 ...............................................\n",
      "[CV] ................... C=10, gamma=0.005, score=0.750, total=   0.0s\n",
      "[CV] C=10, gamma=0.005 ...............................................\n",
      "[CV] ................... C=10, gamma=0.005, score=0.375, total=   0.0s\n",
      "[CV] C=10, gamma=0.005 ...............................................\n",
      "[CV] ................... C=10, gamma=0.005, score=0.625, total=   0.0s\n",
      "[CV] C=10, gamma=0.005 ...............................................\n",
      "[CV] ................... C=10, gamma=0.005, score=0.750, total=   0.0s\n",
      "[CV] C=50, gamma=0.0001 ..............................................\n",
      "[CV] .................. C=50, gamma=0.0001, score=0.875, total=   0.0s\n",
      "[CV] C=50, gamma=0.0001 ..............................................\n",
      "[CV] .................. C=50, gamma=0.0001, score=0.750, total=   0.0s\n",
      "[CV] C=50, gamma=0.0001 ..............................................\n",
      "[CV] .................. C=50, gamma=0.0001, score=0.375, total=   0.0s\n",
      "[CV] C=50, gamma=0.0001 ..............................................\n",
      "[CV] .................. C=50, gamma=0.0001, score=0.375, total=   0.0s\n",
      "[CV] C=50, gamma=0.0001 ..............................................\n",
      "[CV] .................. C=50, gamma=0.0001, score=0.750, total=   0.0s\n",
      "[CV] C=50, gamma=0.0005 ..............................................\n",
      "[CV] .................. C=50, gamma=0.0005, score=0.875, total=   0.0s\n",
      "[CV] C=50, gamma=0.0005 ..............................................\n",
      "[CV] .................. C=50, gamma=0.0005, score=0.750, total=   0.0s\n",
      "[CV] C=50, gamma=0.0005 ..............................................\n",
      "[CV] .................. C=50, gamma=0.0005, score=0.375, total=   0.0s\n",
      "[CV] C=50, gamma=0.0005 ..............................................\n",
      "[CV] .................. C=50, gamma=0.0005, score=0.375, total=   0.0s\n",
      "[CV] C=50, gamma=0.0005 ..............................................\n",
      "[CV] .................. C=50, gamma=0.0005, score=0.750, total=   0.0s\n",
      "[CV] C=50, gamma=0.001 ...............................................\n",
      "[CV] ................... C=50, gamma=0.001, score=0.875, total=   0.0s\n",
      "[CV] C=50, gamma=0.001 ...............................................\n",
      "[CV] ................... C=50, gamma=0.001, score=0.750, total=   0.0s\n",
      "[CV] C=50, gamma=0.001 ...............................................\n",
      "[CV] ................... C=50, gamma=0.001, score=0.375, total=   0.0s\n",
      "[CV] C=50, gamma=0.001 ...............................................\n",
      "[CV] ................... C=50, gamma=0.001, score=0.375, total=   0.0s\n",
      "[CV] C=50, gamma=0.001 ...............................................\n",
      "[CV] ................... C=50, gamma=0.001, score=0.750, total=   0.0s\n",
      "[CV] C=50, gamma=0.005 ...............................................\n",
      "[CV] ................... C=50, gamma=0.005, score=0.875, total=   0.0s\n",
      "[CV] C=50, gamma=0.005 ...............................................\n",
      "[CV] ................... C=50, gamma=0.005, score=0.750, total=   0.0s\n",
      "[CV] C=50, gamma=0.005 ...............................................\n",
      "[CV] ................... C=50, gamma=0.005, score=0.375, total=   0.0s\n",
      "[CV] C=50, gamma=0.005 ...............................................\n",
      "[CV] ................... C=50, gamma=0.005, score=0.375, total=   0.0s\n",
      "[CV] C=50, gamma=0.005 ...............................................\n",
      "[CV] ................... C=50, gamma=0.005, score=0.750, total=   0.0s\n"
     ]
    },
    {
     "name": "stderr",
     "output_type": "stream",
     "text": [
      "[Parallel(n_jobs=1)]: Done  80 out of  80 | elapsed:    0.4s finished\n"
     ]
    },
    {
     "data": {
      "text/plain": [
       "GridSearchCV(cv=None, error_score=nan,\n",
       "             estimator=SVC(C=1.0, break_ties=False, cache_size=200,\n",
       "                           class_weight=None, coef0=0.0,\n",
       "                           decision_function_shape='ovr', degree=3,\n",
       "                           gamma='scale', kernel='linear', max_iter=-1,\n",
       "                           probability=False, random_state=None, shrinking=True,\n",
       "                           tol=0.001, verbose=False),\n",
       "             iid='deprecated', n_jobs=None,\n",
       "             param_grid={'C': [1, 5, 10, 50],\n",
       "                         'gamma': [0.0001, 0.0005, 0.001, 0.005]},\n",
       "             pre_dispatch='2*n_jobs', refit=True, return_train_score=False,\n",
       "             scoring=None, verbose=3)"
      ]
     },
     "execution_count": 863,
     "metadata": {},
     "output_type": "execute_result"
    }
   ],
   "source": [
    "grid.fit(X_train_minmax, y_train)"
   ]
  },
  {
   "cell_type": "code",
   "execution_count": 864,
   "metadata": {},
   "outputs": [
    {
     "name": "stdout",
     "output_type": "stream",
     "text": [
      "{'C': 1, 'gamma': 0.0001}\n",
      "0.7\n"
     ]
    }
   ],
   "source": [
    "print(grid.best_params_)\n",
    "print(grid.best_score_)"
   ]
  },
  {
   "cell_type": "code",
   "execution_count": 865,
   "metadata": {},
   "outputs": [
    {
     "data": {
      "text/plain": [
       "0.775"
      ]
     },
     "execution_count": 865,
     "metadata": {},
     "output_type": "execute_result"
    }
   ],
   "source": [
    "# Training score:\n",
    "grid.score(X_train_minmax, y_train)"
   ]
  },
  {
   "cell_type": "code",
   "execution_count": 866,
   "metadata": {},
   "outputs": [
    {
     "data": {
      "text/plain": [
       "0.7222222222222222"
      ]
     },
     "execution_count": 866,
     "metadata": {},
     "output_type": "execute_result"
    }
   ],
   "source": [
    "# Testing score:\n",
    "grid.score(X_test_minmax, y_test)"
   ]
  },
  {
   "cell_type": "code",
   "execution_count": 867,
   "metadata": {},
   "outputs": [
    {
     "name": "stdout",
     "output_type": "stream",
     "text": [
      "Accuracy：44.44%\n",
      "Recall：14.29%\n",
      "Precision：20.00%\n",
      "F1：16.67%\n"
     ]
    }
   ],
   "source": [
    "### Accuracy\n",
    "accuracy = accuracy_score(y_test, predictions)\n",
    "### Recall\n",
    "recall = recall_score(y_test, predictions)\n",
    "### Precision\n",
    "precision = precision_score(y_test, predictions)\n",
    "### F1\n",
    "f1 = f1_score(y_test, predictions)\n",
    "\n",
    "print('Accuracy：{0:.2f}%'.format(accuracy * 100))\n",
    "print('Recall：{0:.2f}%'.format(recall * 100))\n",
    "print('Precision：{0:.2f}%'.format(precision * 100))\n",
    "print('F1：{0:.2f}%'.format(f1 * 100))"
   ]
  },
  {
   "cell_type": "code",
   "execution_count": 868,
   "metadata": {},
   "outputs": [
    {
     "name": "stdout",
     "output_type": "stream",
     "text": [
      "              precision    recall  f1-score   support\n",
      "\n",
      "           0       0.54      0.64      0.58        11\n",
      "           1       0.20      0.14      0.17         7\n",
      "\n",
      "    accuracy                           0.44        18\n",
      "   macro avg       0.37      0.39      0.38        18\n",
      "weighted avg       0.41      0.44      0.42        18\n",
      "\n"
     ]
    }
   ],
   "source": [
    "# Print Classification Report.\n",
    "print(classification_report(y_test, predictions))"
   ]
  },
  {
   "cell_type": "code",
   "execution_count": 869,
   "metadata": {},
   "outputs": [
    {
     "data": {
      "text/plain": [
       "<matplotlib.axes._subplots.AxesSubplot at 0x1a2af0dbd0>"
      ]
     },
     "execution_count": 869,
     "metadata": {},
     "output_type": "execute_result"
    },
    {
     "data": {
      "image/png": "[encoded data removed]",
      "text/plain": [
       "<Figure size 576x396 with 2 Axes>"
      ]
     },
     "metadata": {},
     "output_type": "display_data"
    }
   ],
   "source": [
    "viz = ClassificationReport(SVC(),cmap=\"PuBu\")\n",
    "viz.fit(X_train_minmax, y_train)\n",
    "viz.score(X_test_minmax, y_test)\n",
    "viz.finalize()\n",
    "viz.show(outpath=\"image/svm_classifier.png\")"
   ]
  },
  {
   "cell_type": "code",
   "execution_count": 870,
   "metadata": {},
   "outputs": [
    {
     "data": {
      "text/plain": [
       "<matplotlib.axes._subplots.AxesSubplot at 0x1a3150bb50>"
      ]
     },
     "execution_count": 870,
     "metadata": {},
     "output_type": "execute_result"
    },
    {
     "data": {
      "image/png": "[encoded data removed]",
      "text/plain": [
       "<Figure size 700x500 with 1 Axes>"
      ]
     },
     "metadata": {},
     "output_type": "display_data"
    }
   ],
   "source": [
    "viz = FeatureImportances(model,size=(700, 500),color='b', align='center')\n",
    "viz.fit(X_train_minmax, y_train)\n",
    "viz.show(outpath=\"image/svm_featureimportance.png\")"
   ]
  },
  {
   "cell_type": "markdown",
   "metadata": {},
   "source": [
    "# 3F. Decision tree"
   ]
  },
  {
   "cell_type": "code",
   "execution_count": 879,
   "metadata": {},
   "outputs": [
    {
     "name": "stdout",
     "output_type": "stream",
     "text": [
      "train score= 0.975\n",
      "test score= 0.6111111111111112\n"
     ]
    }
   ],
   "source": [
    "clf = DecisionTreeClassifier(criterion=\"gini\", max_depth=None, min_samples_split=2, min_samples_leaf=2, random_state=1234)\n",
    "clf = clf.fit(X_train, y_train)\n",
    "print(\"train score=\", clf.score(X_train, y_train))\n",
    "print(\"test score=\", clf.score(X_test, y_test))"
   ]
  },
  {
   "cell_type": "markdown",
   "metadata": {},
   "source": [
    " # 3E. Random Forest"
   ]
  },
  {
   "cell_type": "code",
   "execution_count": 883,
   "metadata": {},
   "outputs": [],
   "source": [
    "X_train, X_test, y_train, y_test = train_test_split(X, norm_y, random_state=42, test_size = 0.3)"
   ]
  },
  {
   "cell_type": "code",
   "execution_count": 884,
   "metadata": {},
   "outputs": [],
   "source": [
    "X_scaler = MinMaxScaler().fit(X_train)\n",
    "\n",
    "X_train = X_scaler.transform(X_train)\n",
    "X_test = X_scaler.transform(X_test)"
   ]
  },
  {
   "cell_type": "code",
   "execution_count": 885,
   "metadata": {},
   "outputs": [
    {
     "data": {
      "text/plain": [
       "RandomForestClassifier(bootstrap=True, ccp_alpha=0.0, class_weight=None,\n",
       "                       criterion='gini', max_depth=None, max_features='auto',\n",
       "                       max_leaf_nodes=None, max_samples=None,\n",
       "                       min_impurity_decrease=0.0, min_impurity_split=None,\n",
       "                       min_samples_leaf=1, min_samples_split=2,\n",
       "                       min_weight_fraction_leaf=0.0, n_estimators=100,\n",
       "                       n_jobs=None, oob_score=False, random_state=None,\n",
       "                       verbose=0, warm_start=False)"
      ]
     },
     "execution_count": 885,
     "metadata": {},
     "output_type": "execute_result"
    }
   ],
   "source": [
    "randomforest = RandomForestClassifier()\n",
    "randomforest.fit(X_train, y_train)"
   ]
  },
  {
   "cell_type": "code",
   "execution_count": 886,
   "metadata": {},
   "outputs": [
    {
     "name": "stdout",
     "output_type": "stream",
     "text": [
      "Training Data Score: 1.0\n",
      "Testing Data Score: 0.6666666666666666\n"
     ]
    }
   ],
   "source": [
    "print(f\"Training Data Score: {randomforest.score(X_train, y_train)}\")\n",
    "print(f\"Testing Data Score: {randomforest.score(X_test, y_test)}\")"
   ]
  },
  {
   "cell_type": "code",
   "execution_count": 889,
   "metadata": {},
   "outputs": [
    {
     "data": {
      "text/plain": [
       "[(0.11111198678093598, 'unemployment_benefits'),\n",
       " (0.08911154164891749, 'Labor_force_total'),\n",
       " (0.07395395733657167, 'Labour_force_with_basic_education_female'),\n",
       " (0.07393878004817862, 'Life_expectancy_total'),\n",
       " (0.07044643513453712, 'Unemployment_with_basic_education_female'),\n",
       " (0.06788614310982459, 'life_expectancy_female'),\n",
       " (0.06701729762675104, 'social_protection'),\n",
       " (0.05938381820374202, 'Male_employment'),\n",
       " (0.058091016012316476, 'Labour_force_with_basic_education'),\n",
       " (0.054688589071821544, 'Labor_force_rate_female'),\n",
       " (0.04949372841749801, 'Female_employment'),\n",
       " (0.04819035474056162, 'Unemployment_with_basic_education_male'),\n",
       " (0.04784518021452198, 'unemployment_with_basic_education_total'),\n",
       " (0.045721305806033265, 'Labor_force_rate_male')]"
      ]
     },
     "execution_count": 889,
     "metadata": {},
     "output_type": "execute_result"
    }
   ],
   "source": [
    "sorted(zip(randomforest.feature_importances_, x_columns), reverse=True)"
   ]
  },
  {
   "cell_type": "code",
   "execution_count": 890,
   "metadata": {},
   "outputs": [],
   "source": [
    "param_grid = {'n_estimators': [250, 300, 350],\n",
    "              'max_depth': [125, 150, 175]}\n",
    "grid = GridSearchCV(randomforest, param_grid, verbose=3)"
   ]
  },
  {
   "cell_type": "code",
   "execution_count": 891,
   "metadata": {},
   "outputs": [
    {
     "name": "stdout",
     "output_type": "stream",
     "text": [
      "Fitting 5 folds for each of 9 candidates, totalling 45 fits\n",
      "[CV] max_depth=125, n_estimators=250 .................................\n"
     ]
    },
    {
     "name": "stderr",
     "output_type": "stream",
     "text": [
      "[Parallel(n_jobs=1)]: Using backend SequentialBackend with 1 concurrent workers.\n"
     ]
    },
    {
     "name": "stdout",
     "output_type": "stream",
     "text": [
      "[CV] ..... max_depth=125, n_estimators=250, score=0.625, total=   0.4s\n",
      "[CV] max_depth=125, n_estimators=250 .................................\n"
     ]
    },
    {
     "name": "stderr",
     "output_type": "stream",
     "text": [
      "[Parallel(n_jobs=1)]: Done   1 out of   1 | elapsed:    0.4s remaining:    0.0s\n"
     ]
    },
    {
     "name": "stdout",
     "output_type": "stream",
     "text": [
      "[CV] ..... max_depth=125, n_estimators=250, score=0.625, total=   0.4s\n",
      "[CV] max_depth=125, n_estimators=250 .................................\n"
     ]
    },
    {
     "name": "stderr",
     "output_type": "stream",
     "text": [
      "[Parallel(n_jobs=1)]: Done   2 out of   2 | elapsed:    0.8s remaining:    0.0s\n"
     ]
    },
    {
     "name": "stdout",
     "output_type": "stream",
     "text": [
      "[CV] ..... max_depth=125, n_estimators=250, score=0.375, total=   0.4s\n",
      "[CV] max_depth=125, n_estimators=250 .................................\n",
      "[CV] ..... max_depth=125, n_estimators=250, score=0.625, total=   0.3s\n",
      "[CV] max_depth=125, n_estimators=250 .................................\n",
      "[CV] ..... max_depth=125, n_estimators=250, score=0.625, total=   0.3s\n",
      "[CV] max_depth=125, n_estimators=300 .................................\n",
      "[CV] ..... max_depth=125, n_estimators=300, score=0.750, total=   0.4s\n",
      "[CV] max_depth=125, n_estimators=300 .................................\n",
      "[CV] ..... max_depth=125, n_estimators=300, score=0.750, total=   0.5s\n",
      "[CV] max_depth=125, n_estimators=300 .................................\n",
      "[CV] ..... max_depth=125, n_estimators=300, score=0.375, total=   0.5s\n",
      "[CV] max_depth=125, n_estimators=300 .................................\n",
      "[CV] ..... max_depth=125, n_estimators=300, score=0.625, total=   0.5s\n",
      "[CV] max_depth=125, n_estimators=300 .................................\n",
      "[CV] ..... max_depth=125, n_estimators=300, score=0.625, total=   0.4s\n",
      "[CV] max_depth=125, n_estimators=350 .................................\n",
      "[CV] ..... max_depth=125, n_estimators=350, score=0.750, total=   0.7s\n",
      "[CV] max_depth=125, n_estimators=350 .................................\n",
      "[CV] ..... max_depth=125, n_estimators=350, score=0.625, total=   0.6s\n",
      "[CV] max_depth=125, n_estimators=350 .................................\n",
      "[CV] ..... max_depth=125, n_estimators=350, score=0.375, total=   0.6s\n",
      "[CV] max_depth=125, n_estimators=350 .................................\n",
      "[CV] ..... max_depth=125, n_estimators=350, score=0.750, total=   0.6s\n",
      "[CV] max_depth=125, n_estimators=350 .................................\n",
      "[CV] ..... max_depth=125, n_estimators=350, score=0.625, total=   0.6s\n",
      "[CV] max_depth=150, n_estimators=250 .................................\n",
      "[CV] ..... max_depth=150, n_estimators=250, score=0.625, total=   0.5s\n",
      "[CV] max_depth=150, n_estimators=250 .................................\n",
      "[CV] ..... max_depth=150, n_estimators=250, score=0.625, total=   0.4s\n",
      "[CV] max_depth=150, n_estimators=250 .................................\n",
      "[CV] ..... max_depth=150, n_estimators=250, score=0.375, total=   0.4s\n",
      "[CV] max_depth=150, n_estimators=250 .................................\n",
      "[CV] ..... max_depth=150, n_estimators=250, score=0.625, total=   0.4s\n",
      "[CV] max_depth=150, n_estimators=250 .................................\n",
      "[CV] ..... max_depth=150, n_estimators=250, score=0.625, total=   0.4s\n",
      "[CV] max_depth=150, n_estimators=300 .................................\n",
      "[CV] ..... max_depth=150, n_estimators=300, score=0.750, total=   0.7s\n",
      "[CV] max_depth=150, n_estimators=300 .................................\n",
      "[CV] ..... max_depth=150, n_estimators=300, score=0.625, total=   0.6s\n",
      "[CV] max_depth=150, n_estimators=300 .................................\n",
      "[CV] ..... max_depth=150, n_estimators=300, score=0.250, total=   0.4s\n",
      "[CV] max_depth=150, n_estimators=300 .................................\n",
      "[CV] ..... max_depth=150, n_estimators=300, score=0.875, total=   0.4s\n",
      "[CV] max_depth=150, n_estimators=300 .................................\n",
      "[CV] ..... max_depth=150, n_estimators=300, score=0.625, total=   0.4s\n",
      "[CV] max_depth=150, n_estimators=350 .................................\n",
      "[CV] ..... max_depth=150, n_estimators=350, score=0.750, total=   0.4s\n",
      "[CV] max_depth=150, n_estimators=350 .................................\n",
      "[CV] ..... max_depth=150, n_estimators=350, score=0.625, total=   0.5s\n",
      "[CV] max_depth=150, n_estimators=350 .................................\n",
      "[CV] ..... max_depth=150, n_estimators=350, score=0.375, total=   0.5s\n",
      "[CV] max_depth=150, n_estimators=350 .................................\n",
      "[CV] ..... max_depth=150, n_estimators=350, score=0.625, total=   0.4s\n",
      "[CV] max_depth=150, n_estimators=350 .................................\n",
      "[CV] ..... max_depth=150, n_estimators=350, score=0.625, total=   0.4s\n",
      "[CV] max_depth=175, n_estimators=250 .................................\n",
      "[CV] ..... max_depth=175, n_estimators=250, score=0.750, total=   0.3s\n",
      "[CV] max_depth=175, n_estimators=250 .................................\n",
      "[CV] ..... max_depth=175, n_estimators=250, score=0.625, total=   0.3s\n",
      "[CV] max_depth=175, n_estimators=250 .................................\n",
      "[CV] ..... max_depth=175, n_estimators=250, score=0.375, total=   0.3s\n",
      "[CV] max_depth=175, n_estimators=250 .................................\n",
      "[CV] ..... max_depth=175, n_estimators=250, score=0.750, total=   0.3s\n",
      "[CV] max_depth=175, n_estimators=250 .................................\n",
      "[CV] ..... max_depth=175, n_estimators=250, score=0.750, total=   0.3s\n",
      "[CV] max_depth=175, n_estimators=300 .................................\n",
      "[CV] ..... max_depth=175, n_estimators=300, score=0.625, total=   0.4s\n",
      "[CV] max_depth=175, n_estimators=300 .................................\n",
      "[CV] ..... max_depth=175, n_estimators=300, score=0.625, total=   0.4s\n",
      "[CV] max_depth=175, n_estimators=300 .................................\n",
      "[CV] ..... max_depth=175, n_estimators=300, score=0.375, total=   0.4s\n",
      "[CV] max_depth=175, n_estimators=300 .................................\n",
      "[CV] ..... max_depth=175, n_estimators=300, score=0.625, total=   0.8s\n",
      "[CV] max_depth=175, n_estimators=300 .................................\n",
      "[CV] ..... max_depth=175, n_estimators=300, score=0.625, total=   0.4s\n",
      "[CV] max_depth=175, n_estimators=350 .................................\n",
      "[CV] ..... max_depth=175, n_estimators=350, score=0.750, total=   0.7s\n",
      "[CV] max_depth=175, n_estimators=350 .................................\n",
      "[CV] ..... max_depth=175, n_estimators=350, score=0.625, total=   1.0s\n",
      "[CV] max_depth=175, n_estimators=350 .................................\n",
      "[CV] ..... max_depth=175, n_estimators=350, score=0.375, total=   0.8s\n",
      "[CV] max_depth=175, n_estimators=350 .................................\n",
      "[CV] ..... max_depth=175, n_estimators=350, score=0.875, total=   0.9s\n",
      "[CV] max_depth=175, n_estimators=350 .................................\n",
      "[CV] ..... max_depth=175, n_estimators=350, score=0.625, total=   0.8s\n"
     ]
    },
    {
     "name": "stderr",
     "output_type": "stream",
     "text": [
      "[Parallel(n_jobs=1)]: Done  45 out of  45 | elapsed:   22.2s finished\n"
     ]
    },
    {
     "data": {
      "text/plain": [
       "GridSearchCV(cv=None, error_score=nan,\n",
       "             estimator=RandomForestClassifier(bootstrap=True, ccp_alpha=0.0,\n",
       "                                              class_weight=None,\n",
       "                                              criterion='gini', max_depth=None,\n",
       "                                              max_features='auto',\n",
       "                                              max_leaf_nodes=None,\n",
       "                                              max_samples=None,\n",
       "                                              min_impurity_decrease=0.0,\n",
       "                                              min_impurity_split=None,\n",
       "                                              min_samples_leaf=1,\n",
       "                                              min_samples_split=2,\n",
       "                                              min_weight_fraction_leaf=0.0,\n",
       "                                              n_estimators=100, n_jobs=None,\n",
       "                                              oob_score=False,\n",
       "                                              random_state=None, verbose=0,\n",
       "                                              warm_start=False),\n",
       "             iid='deprecated', n_jobs=None,\n",
       "             param_grid={'max_depth': [125, 150, 175],\n",
       "                         'n_estimators': [250, 300, 350]},\n",
       "             pre_dispatch='2*n_jobs', refit=True, return_train_score=False,\n",
       "             scoring=None, verbose=3)"
      ]
     },
     "execution_count": 891,
     "metadata": {},
     "output_type": "execute_result"
    }
   ],
   "source": [
    "grid.fit(X_train, y_train)"
   ]
  },
  {
   "cell_type": "code",
   "execution_count": 892,
   "metadata": {},
   "outputs": [],
   "source": [
    "# Make prediction and save to variable for report.\n",
    "predictions = grid.predict(X_test)"
   ]
  },
  {
   "cell_type": "code",
   "execution_count": 893,
   "metadata": {},
   "outputs": [
    {
     "name": "stdout",
     "output_type": "stream",
     "text": [
      "              precision    recall  f1-score   support\n",
      "\n",
      "           0       0.75      0.82      0.78        11\n",
      "           1       0.67      0.57      0.62         7\n",
      "\n",
      "    accuracy                           0.72        18\n",
      "   macro avg       0.71      0.69      0.70        18\n",
      "weighted avg       0.72      0.72      0.72        18\n",
      "\n"
     ]
    }
   ],
   "source": [
    "print(classification_report(y_test, predictions))"
   ]
  },
  {
   "cell_type": "code",
   "execution_count": 894,
   "metadata": {},
   "outputs": [
    {
     "data": {
      "text/plain": [
       "<matplotlib.axes._subplots.AxesSubplot at 0x1a2f605e50>"
      ]
     },
     "execution_count": 894,
     "metadata": {},
     "output_type": "execute_result"
    },
    {
     "data": {
      "image/png": "[encoded data removed]",
      "text/plain": [
       "<Figure size 576x396 with 2 Axes>"
      ]
     },
     "metadata": {},
     "output_type": "display_data"
    }
   ],
   "source": [
    "viz = ClassificationReport(RandomForestClassifier(),cmap=\"PuBu\")\n",
    "viz.fit(X_train, y_train)\n",
    "viz.score(X_test, y_test)\n",
    "viz.finalize()\n",
    "viz.show(outpath=\"image/randomforest_classifier.png\")"
   ]
  },
  {
   "cell_type": "code",
   "execution_count": 896,
   "metadata": {},
   "outputs": [
    {
     "data": {
      "text/plain": [
       "<matplotlib.axes._subplots.AxesSubplot at 0x1a32236e50>"
      ]
     },
     "execution_count": 896,
     "metadata": {},
     "output_type": "execute_result"
    },
    {
     "data": {
      "image/png": "[encoded data removed]",
      "text/plain": [
       "<Figure size 700x500 with 1 Axes>"
      ]
     },
     "metadata": {},
     "output_type": "display_data"
    }
   ],
   "source": [
    "viz = FeatureImportances(randomforest,size=(700, 500),color='b', align='center')\n",
    "viz.fit(X_train, y_train)\n",
    "viz.show(outpath=\"image/rf_featureimportance.png\")"
   ]
  },
  {
   "cell_type": "code",
   "execution_count": null,
   "metadata": {},
   "outputs": [],
   "source": []
  },
  {
   "cell_type": "markdown",
   "metadata": {},
   "source": [
    "# 4. Conclusion"
   ]
  },
  {
   "cell_type": "code",
   "execution_count": null,
   "metadata": {},
   "outputs": [],
   "source": []
  },
  {
   "cell_type": "code",
   "execution_count": null,
   "metadata": {},
   "outputs": [],
   "source": []
  },
  {
   "cell_type": "code",
   "execution_count": null,
   "metadata": {},
   "outputs": [],
   "source": []
  }
 ],
 "metadata": {
  "kernelspec": {
   "display_name": "Python 3",
   "language": "python",
   "name": "python3"
  },
  "language_info": {
   "codemirror_mode": {
    "name": "ipython",
    "version": 3
   },
   "file_extension": ".py",
   "mimetype": "text/x-python",
   "name": "python",
   "nbconvert_exporter": "python",
   "pygments_lexer": "ipython3",
   "version": "3.7.6"
  }
 },
 "nbformat": 4,
 "nbformat_minor": 4
}
